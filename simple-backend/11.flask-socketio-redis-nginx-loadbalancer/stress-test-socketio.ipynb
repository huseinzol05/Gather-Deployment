{
 "cells": [
  {
   "cell_type": "code",
   "execution_count": 1,
   "metadata": {},
   "outputs": [],
   "source": [
    "from queue import Queue\n",
    "import threading\n",
    "from socketIO_client import SocketIO, BaseNamespace\n",
    "import numpy as np\n",
    "import time"
   ]
  },
  {
   "cell_type": "code",
   "execution_count": 2,
   "metadata": {},
   "outputs": [],
   "source": [
    "def run_parallel_in_threads(target, args_list):\n",
    "    globalparas = []\n",
    "    result = Queue()\n",
    "    def task_wrapper(*args):\n",
    "        result.put(target(*args))\n",
    "    threads = [threading.Thread(target = task_wrapper, args = args) for args in args_list]\n",
    "    for t in threads:\n",
    "        t.start()\n",
    "    for t in threads:\n",
    "        t.join()\n",
    "    while not result.empty():\n",
    "        globalparas.append(result.get())\n",
    "    globalparas = list(filter(None, globalparas))\n",
    "    return globalparas\n",
    "\n",
    "def get_time_5001(i):\n",
    "    last_time = time.time()\n",
    "    live_namespace = SocketIO('http://localhost', 5001).define(BaseNamespace, '/live')\n",
    "    live_namespace.emit('event',{'id':int(i)})\n",
    "    return [time.time()-last_time, i]\n",
    "\n",
    "def get_time_5000(i):\n",
    "    last_time = time.time()\n",
    "    live_namespace = SocketIO('http://localhost', 5000).define(BaseNamespace, '/live')\n",
    "    live_namespace.emit('event',{'id':int(i)})\n",
    "    return [time.time()-last_time, i]\n",
    "\n",
    "def get_time_80(i):\n",
    "    last_time = time.time()\n",
    "    live_namespace = SocketIO('http://localhost/socket.io', 80).define(BaseNamespace, '/live')\n",
    "    live_namespace.emit('event',{'id':int(i)})\n",
    "    return [time.time()-last_time, i]"
   ]
  },
  {
   "cell_type": "code",
   "execution_count": 4,
   "metadata": {},
   "outputs": [],
   "source": [
    "live_namespace = SocketIO('http://localhost/socket.io', 80).define(BaseNamespace, '/live')\n",
    "live_namespace.emit('event',{'id':int(0)})"
   ]
  },
  {
   "cell_type": "code",
   "execution_count": 5,
   "metadata": {},
   "outputs": [],
   "source": [
    "def stress_test(socketio, count, per_second):\n",
    "    aranged = np.arange(count)\n",
    "    for index in range(0,aranged.shape[0],per_second):\n",
    "        batch = aranged[index:min(index + per_second,aranged.shape[0])]\n",
    "        threads = []\n",
    "        for k in batch:\n",
    "            threads.append((k,))\n",
    "        outputs = run_parallel_in_threads(socketio, threads)\n",
    "        total = 0\n",
    "        for i in outputs:\n",
    "            total += float(i[0])\n",
    "        print('index %d, total time taken %f s, average time taken %f s'%(index, total, total / len(outputs)))\n",
    "        time.sleep(2)"
   ]
  },
  {
   "cell_type": "code",
   "execution_count": 6,
   "metadata": {},
   "outputs": [
    {
     "name": "stdout",
     "output_type": "stream",
     "text": [
      "index 0, total time taken 1.087309 s, average time taken 0.108731 s\n",
      "index 10, total time taken 1.203958 s, average time taken 0.120396 s\n",
      "index 20, total time taken 1.310126 s, average time taken 0.131013 s\n",
      "index 30, total time taken 1.595863 s, average time taken 0.159586 s\n",
      "index 40, total time taken 1.548332 s, average time taken 0.154833 s\n"
     ]
    }
   ],
   "source": [
    "stress_test(get_time_80, 50,10)"
   ]
  },
  {
   "cell_type": "code",
   "execution_count": null,
   "metadata": {},
   "outputs": [],
   "source": []
  }
 ],
 "metadata": {
  "kernelspec": {
   "display_name": "Python 3",
   "language": "python",
   "name": "python3"
  },
  "language_info": {
   "codemirror_mode": {
    "name": "ipython",
    "version": 3
   },
   "file_extension": ".py",
   "mimetype": "text/x-python",
   "name": "python",
   "nbconvert_exporter": "python",
   "pygments_lexer": "ipython3",
   "version": "3.6.5"
  }
 },
 "nbformat": 4,
 "nbformat_minor": 2
}
