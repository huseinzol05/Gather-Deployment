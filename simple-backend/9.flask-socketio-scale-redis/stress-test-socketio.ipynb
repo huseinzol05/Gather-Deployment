{
 "cells": [
  {
   "cell_type": "code",
   "execution_count": 1,
   "metadata": {},
   "outputs": [],
   "source": [
    "from queue import Queue\n",
    "import threading\n",
    "from socketIO_client import SocketIO, BaseNamespace\n",
    "import numpy as np\n",
    "import time"
   ]
  },
  {
   "cell_type": "code",
   "execution_count": 2,
   "metadata": {},
   "outputs": [],
   "source": [
    "def run_parallel_in_threads(target, args_list):\n",
    "    globalparas = []\n",
    "    result = Queue()\n",
    "    def task_wrapper(*args):\n",
    "        result.put(target(*args))\n",
    "    threads = [threading.Thread(target = task_wrapper, args = args) for args in args_list]\n",
    "    for t in threads:\n",
    "        t.start()\n",
    "    for t in threads:\n",
    "        t.join()\n",
    "    while not result.empty():\n",
    "        globalparas.append(result.get())\n",
    "    globalparas = list(filter(None, globalparas))\n",
    "    return globalparas\n",
    "\n",
    "def get_time(i):\n",
    "    last_time = time.time()\n",
    "    socketIO = SocketIO('http://localhost', 5000)\n",
    "    live_namespace = socketIO.define(BaseNamespace, '/live')\n",
    "    live_namespace.emit('event',{'id':int(i)})\n",
    "    return [time.time()-last_time, i]"
   ]
  },
  {
   "cell_type": "code",
   "execution_count": 3,
   "metadata": {},
   "outputs": [],
   "source": [
    "def stress_test(count, per_second):\n",
    "    aranged = np.arange(count)\n",
    "    for index in range(0,aranged.shape[0],per_second):\n",
    "        batch = aranged[index:min(index + per_second,aranged.shape[0])]\n",
    "        threads = []\n",
    "        for k in batch:\n",
    "            threads.append((k,))\n",
    "        outputs = run_parallel_in_threads(get_time, threads)\n",
    "        total = 0\n",
    "        for i in outputs:\n",
    "            total += float(i[0])\n",
    "        print('index %d, total time taken %f s, average time taken %f s'%(index, total, total / len(outputs)))\n",
    "        time.sleep(1)"
   ]
  },
  {
   "cell_type": "code",
   "execution_count": 4,
   "metadata": {},
   "outputs": [
    {
     "name": "stdout",
     "output_type": "stream",
     "text": [
      "index 0, total time taken 99.869447 s, average time taken 0.998694 s\n",
      "index 100, total time taken 222.226329 s, average time taken 2.222263 s\n",
      "index 200, total time taken 271.741829 s, average time taken 2.717418 s\n",
      "index 300, total time taken 376.807925 s, average time taken 3.768079 s\n"
     ]
    }
   ],
   "source": [
    "# gunicorn with eventlet\n",
    "stress_test(400,100)"
   ]
  },
  {
   "cell_type": "code",
   "execution_count": null,
   "metadata": {},
   "outputs": [],
   "source": []
  }
 ],
 "metadata": {
  "kernelspec": {
   "display_name": "Python 3",
   "language": "python",
   "name": "python3"
  },
  "language_info": {
   "codemirror_mode": {
    "name": "ipython",
    "version": 3
   },
   "file_extension": ".py",
   "mimetype": "text/x-python",
   "name": "python",
   "nbconvert_exporter": "python",
   "pygments_lexer": "ipython3",
   "version": "3.7.0"
  }
 },
 "nbformat": 4,
 "nbformat_minor": 2
}
