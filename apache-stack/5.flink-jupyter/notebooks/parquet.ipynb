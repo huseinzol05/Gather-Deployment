{
 "cells": [
  {
   "cell_type": "code",
   "execution_count": 1,
   "id": "23af39df",
   "metadata": {},
   "outputs": [],
   "source": [
    "# !wget https://raw.githubusercontent.com/Teradata/kylo/master/samples/sample-data/parquet/userdata1.parquet\n",
    "# !wget https://repo.maven.apache.org/maven2/org/apache/flink/flink-sql-parquet_2.11/1.12.2/flink-sql-parquet_2.11-1.12.2.jar"
   ]
  },
  {
   "cell_type": "code",
   "execution_count": 5,
   "id": "5313e4d8",
   "metadata": {},
   "outputs": [],
   "source": [
    "from pyflink.dataset import ExecutionEnvironment\n",
    "from pyflink.table import TableConfig, DataTypes, BatchTableEnvironment, EnvironmentSettings\n",
    "from pyflink.table.descriptors import Schema, OldCsv, FileSystem\n",
    "from pyflink.table.types import DataTypes\n",
    "from pyflink.table.expressions import col, lit"
   ]
  },
  {
   "cell_type": "code",
   "execution_count": 26,
   "id": "1d2f2bac",
   "metadata": {},
   "outputs": [
    {
     "data": {
      "text/plain": [
       "JavaObject id=o444"
      ]
     },
     "execution_count": 26,
     "metadata": {},
     "output_type": "execute_result"
    }
   ],
   "source": [
    "t_env = BatchTableEnvironment.create(\n",
    "    environment_settings=EnvironmentSettings.new_instance()\n",
    "    .in_batch_mode().use_blink_planner().build())\n",
    "\n",
    "t_env._j_tenv.getPlanner().getExecEnv().setParallelism(1)"
   ]
  },
  {
   "cell_type": "code",
   "execution_count": 27,
   "id": "051cb2a1",
   "metadata": {},
   "outputs": [],
   "source": [
    "my_source_ddl = f\"\"\"\n",
    "CREATE TABLE mySource (\n",
    "  registration_dttm TIMESTAMP,\n",
    "  id INT,\n",
    "  first_name STRING,\n",
    "  last_name STRING,\n",
    "  email STRING,\n",
    "  gender STRING,\n",
    "  ip_address STRING,\n",
    "  cc STRING,\n",
    "  country STRING,\n",
    "  birthdate STRING,\n",
    "  salary DOUBLE,\n",
    "  title STRING,\n",
    "  comments STRING\n",
    ") WITH (\n",
    " 'connector' = 'filesystem',\n",
    " 'path' = '/notebooks/userdata1.parquet',\n",
    " 'format' = 'parquet'\n",
    ")\n",
    "\"\"\"\n",
    "\n",
    "my_sink_ddl = f\"\"\"\n",
    "CREATE TABLE mySink (\n",
    "  registration_dttm TIMESTAMP(6),\n",
    "  id INT,\n",
    "  first_name STRING,\n",
    "  last_name STRING,\n",
    "  email STRING,\n",
    "  gender STRING,\n",
    "  ip_address STRING,\n",
    "  cc STRING,\n",
    "  country STRING,\n",
    "  birthdate STRING,\n",
    "  salary DOUBLE,\n",
    "  title STRING,\n",
    "  comments STRING\n",
    ") WITH (\n",
    " 'connector' = 'filesystem',\n",
    " 'path' = '/notebooks/output',\n",
    " 'format' = 'csv'\n",
    ")\n",
    "\"\"\"\n",
    "\n",
    "t_env.sql_update(my_source_ddl)\n",
    "t_env.sql_update(my_sink_ddl)"
   ]
  },
  {
   "cell_type": "code",
   "execution_count": 30,
   "id": "1a0b2a01",
   "metadata": {},
   "outputs": [
    {
     "data": {
      "text/plain": [
       "<pyflink.common.job_execution_result.JobExecutionResult at 0x7effecfc5198>"
      ]
     },
     "execution_count": 30,
     "metadata": {},
     "output_type": "execute_result"
    }
   ],
   "source": [
    "tab = t_env.from_path('mySource')\n",
    "tab.select('*').insert_into('mySink')\n",
    "\n",
    "t_env.execute('sink_parquet')"
   ]
  },
  {
   "cell_type": "code",
   "execution_count": 32,
   "id": "c795e94b",
   "metadata": {
    "scrolled": false
   },
   "outputs": [],
   "source": [
    "# !/opt/flink/bin/flink run --detached -py /notebooks/parquet.py "
   ]
  },
  {
   "cell_type": "code",
   "execution_count": null,
   "id": "34e5dfce",
   "metadata": {},
   "outputs": [],
   "source": []
  }
 ],
 "metadata": {
  "kernelspec": {
   "display_name": "Python 3",
   "language": "python",
   "name": "python3"
  },
  "language_info": {
   "codemirror_mode": {
    "name": "ipython",
    "version": 3
   },
   "file_extension": ".py",
   "mimetype": "text/x-python",
   "name": "python",
   "nbconvert_exporter": "python",
   "pygments_lexer": "ipython3",
   "version": "3.6.9"
  }
 },
 "nbformat": 4,
 "nbformat_minor": 5
}
