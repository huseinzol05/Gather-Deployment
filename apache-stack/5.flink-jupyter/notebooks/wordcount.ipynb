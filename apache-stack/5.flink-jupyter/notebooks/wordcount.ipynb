{
 "cells": [
  {
   "cell_type": "code",
   "execution_count": 7,
   "id": "77e93fed",
   "metadata": {},
   "outputs": [
    {
     "data": {
      "text/plain": [
       "<pyflink.common.job_execution_result.JobExecutionResult at 0x7f91b45e1748>"
      ]
     },
     "execution_count": 7,
     "metadata": {},
     "output_type": "execute_result"
    }
   ],
   "source": [
    "from pyflink.dataset import ExecutionEnvironment\n",
    "from pyflink.table import TableConfig, DataTypes, BatchTableEnvironment\n",
    "from pyflink.table.descriptors import Schema, OldCsv, FileSystem\n",
    "from pyflink.table.types import DataTypes\n",
    "from pyflink.table.expressions import col, lit\n",
    "\n",
    "with open('/notebooks/big-text.txt') as fopen:\n",
    "    content = fopen.read()\n",
    "\n",
    "exec_env = ExecutionEnvironment.get_execution_environment()\n",
    "exec_env.set_parallelism(1)\n",
    "t_config = TableConfig()\n",
    "t_env = BatchTableEnvironment.create(exec_env, t_config)\n",
    "\n",
    "result_path = '/notebooks/output.csv'\n",
    "\n",
    "t_env.connect(FileSystem().path(result_path)).with_format(\n",
    "    OldCsv()\n",
    "    .field_delimiter(',')\n",
    "    .field('word', DataTypes.STRING())\n",
    "    .field('count', DataTypes.BIGINT())\n",
    ").with_schema(\n",
    "    Schema()\n",
    "    .field('word', DataTypes.STRING())\n",
    "    .field('count', DataTypes.BIGINT())\n",
    ").create_temporary_table(\n",
    "    'mySink'\n",
    ")\n",
    "\n",
    "elements = [(word, 1) for word in content.split(' ')]\n",
    "\n",
    "t_env.from_elements(elements, ['word', 'count']).group_by(col('word')).select(\n",
    "    'word, count(1) as count'\n",
    ").insert_into('mySink')\n",
    "\n",
    "t_env.execute('word_count')\n"
   ]
  },
  {
   "cell_type": "code",
   "execution_count": 9,
   "id": "60abfb16",
   "metadata": {},
   "outputs": [],
   "source": [
    "!/opt/flink/bin/flink run --detached -py /notebooks/wordcount.py"
   ]
  }
 ],
 "metadata": {
  "kernelspec": {
   "display_name": "Python 3",
   "language": "python",
   "name": "python3"
  },
  "language_info": {
   "codemirror_mode": {
    "name": "ipython",
    "version": 3
   },
   "file_extension": ".py",
   "mimetype": "text/x-python",
   "name": "python",
   "nbconvert_exporter": "python",
   "pygments_lexer": "ipython3",
   "version": "3.6.9"
  }
 },
 "nbformat": 4,
 "nbformat_minor": 5
}
