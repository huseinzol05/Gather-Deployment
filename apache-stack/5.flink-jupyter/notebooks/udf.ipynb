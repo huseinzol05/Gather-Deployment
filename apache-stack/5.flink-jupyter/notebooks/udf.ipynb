{
 "cells": [
  {
   "cell_type": "code",
   "execution_count": null,
   "id": "d1a651f9",
   "metadata": {},
   "outputs": [],
   "source": [
    "from pyflink.dataset import ExecutionEnvironment\n",
    "from pyflink.table import TableConfig, DataTypes, BatchTableEnvironment\n",
    "from pyflink.table.descriptors import Schema, OldCsv, FileSystem\n",
    "from pyflink.table.types import DataTypes\n",
    "from pyflink.table.expressions import col, lit\n",
    "from pyflink.table.udf import udf\n",
    "\n",
    "with open('/notebooks/big-text.txt') as fopen:\n",
    "    content = fopen.read()\n",
    "\n",
    "exec_env = ExecutionEnvironment.get_execution_environment()\n",
    "t_config = TableConfig()\n",
    "t_env = BatchTableEnvironment.create(exec_env, t_config)\n",
    "\n",
    "RANDOM = None\n",
    "\n",
    "\n",
    "@udf(result_type = DataTypes.STRING())\n",
    "def concat(string):\n",
    "    global RANDOM\n",
    "    from random_word import RandomWords\n",
    "\n",
    "    if RANDOM is None:\n",
    "        RANDOM = RandomWords()\n",
    "\n",
    "    r = RANDOM.get_random_word()\n",
    "    return f'{r} {string}'\n",
    "\n",
    "\n",
    "t_env.set_python_requirements('/notebooks/requirements.txt')\n",
    "\n",
    "t_env.register_function('concat', concat)\n",
    "\n",
    "result_path = '/notebooks/output-udf.csv'\n",
    "\n",
    "t_env.connect(FileSystem().path(result_path)).with_format(\n",
    "    OldCsv()\n",
    "    .field_delimiter(',')\n",
    "    .field('word', DataTypes.STRING())\n",
    "    .field('count', DataTypes.BIGINT())\n",
    ").with_schema(\n",
    "    Schema()\n",
    "    .field('word', DataTypes.STRING())\n",
    "    .field('count', DataTypes.BIGINT())\n",
    ").create_temporary_table(\n",
    "    'mySink'\n",
    ")\n",
    "\n",
    "elements = [(word, 1) for word in content.split(' ')]\n",
    "\n",
    "t_env.from_elements(elements, ['word', 'count']).group_by(col('word')).select(\n",
    "    'concat(word), count(1) as count'\n",
    ").insert_into('mySink')\n",
    "\n",
    "t_env.execute('word_count_udf')\n"
   ]
  },
  {
   "cell_type": "code",
   "execution_count": null,
   "id": "81cfdda8",
   "metadata": {},
   "outputs": [],
   "source": [
    "!/opt/flink/bin/flink run --detached -py /notebooks/udf.py"
   ]
  },
  {
   "cell_type": "code",
   "execution_count": null,
   "id": "40e3fc23",
   "metadata": {},
   "outputs": [],
   "source": []
  }
 ],
 "metadata": {
  "kernelspec": {
   "display_name": "Python 3",
   "language": "python",
   "name": "python3"
  },
  "language_info": {
   "codemirror_mode": {
    "name": "ipython",
    "version": 3
   },
   "file_extension": ".py",
   "mimetype": "text/x-python",
   "name": "python",
   "nbconvert_exporter": "python",
   "pygments_lexer": "ipython3",
   "version": "3.6.9"
  }
 },
 "nbformat": 4,
 "nbformat_minor": 5
}
