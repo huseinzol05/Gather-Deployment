{
 "cells": [
  {
   "cell_type": "code",
   "execution_count": 1,
   "metadata": {},
   "outputs": [],
   "source": [
    "from kafka import KafkaProducer\n",
    "from kafka.partitioner import DefaultPartitioner, Murmur2Partitioner, RoundRobinPartitioner\n",
    "from kafka import TopicPartition\n",
    "from kafka import KafkaConsumer\n",
    "from confluent_kafka import Consumer, KafkaError"
   ]
  },
  {
   "cell_type": "code",
   "execution_count": 2,
   "metadata": {},
   "outputs": [],
   "source": [
    "def publish_message(producer_instance, topic_name, key, value):\n",
    "    try:\n",
    "        key_bytes = bytes(key, encoding = 'utf-8')\n",
    "        value_bytes = bytes(value, encoding = 'utf-8')\n",
    "        x = producer_instance.send(topic_name, value = value_bytes)\n",
    "        producer_instance.flush()\n",
    "        return x\n",
    "    except Exception as ex:\n",
    "        print('Exception in publishing message')\n",
    "        print(str(ex))\n",
    "\n",
    "\n",
    "def connect_kafka_producer():\n",
    "    print('connecting to kafka')\n",
    "    _producer = None\n",
    "    try:\n",
    "        _producer = KafkaProducer(\n",
    "            bootstrap_servers = ['kafka:9092'], api_version = (0, 10),\n",
    "            partitioner = RoundRobinPartitioner()\n",
    "        )\n",
    "    except Exception as ex:\n",
    "        print('Exception while connecting Kafka')\n",
    "        print(str(ex))\n",
    "    finally:\n",
    "        print('successfully connected to kafka')\n",
    "        return _producer"
   ]
  },
  {
   "cell_type": "code",
   "execution_count": 3,
   "metadata": {},
   "outputs": [
    {
     "name": "stdout",
     "output_type": "stream",
     "text": [
      "connecting to kafka\n",
      "successfully connected to kafka\n"
     ]
    }
   ],
   "source": [
    "kafka_producer = connect_kafka_producer()"
   ]
  },
  {
   "cell_type": "code",
   "execution_count": 4,
   "metadata": {},
   "outputs": [
    {
     "data": {
      "text/plain": [
       "RecordMetadata(topic='polarities', partition=2, topic_partition=TopicPartition(topic='polarities', partition=2), offset=44, timestamp=1551890867086, checksum=294486828, serialized_key_size=-1, serialized_value_size=8, serialized_header_size=-1)"
      ]
     },
     "execution_count": 4,
     "metadata": {},
     "output_type": "execute_result"
    }
   ],
   "source": [
    "publish_message(kafka_producer, 'polarities', 'polarity', 'testing0').get(timeout=10)\n",
    "publish_message(kafka_producer, 'polarities', 'polarity', 'testing1').get(timeout=10)\n",
    "publish_message(kafka_producer, 'polarities', 'polarity', 'testing2').get(timeout=10)\n",
    "publish_message(kafka_producer, 'polarities', 'polarity', 'testing3').get(timeout=10)\n",
    "publish_message(kafka_producer, 'polarities', 'polarity', 'testing4').get(timeout=10)\n",
    "publish_message(kafka_producer, 'polarities', 'polarity', 'testing5').get(timeout=10)"
   ]
  },
  {
   "cell_type": "code",
   "execution_count": 5,
   "metadata": {},
   "outputs": [
    {
     "data": {
      "text/plain": [
       "{0, 1, 2}"
      ]
     },
     "execution_count": 5,
     "metadata": {},
     "output_type": "execute_result"
    }
   ],
   "source": [
    "kafka_producer.partitions_for('polarities')"
   ]
  },
  {
   "cell_type": "code",
   "execution_count": 6,
   "metadata": {},
   "outputs": [],
   "source": [
    "consumer = Consumer({\n",
    "    'bootstrap.servers': 'kafka:9092',\n",
    "    'group.id': 'mygroup',\n",
    "    'auto.offset.reset': 'latest'\n",
    "})\n",
    "consumer2 = Consumer({\n",
    "    'bootstrap.servers': 'kafka:9092',\n",
    "    'group.id': 'mygroup',\n",
    "    'auto.offset.reset': 'latest'\n",
    "})\n",
    "consumer3 = Consumer({\n",
    "    'bootstrap.servers': 'kafka:9092',\n",
    "    'group.id': 'mygroup',\n",
    "    'auto.offset.reset': 'latest'\n",
    "})\n",
    "consumer.subscribe(['polarities'])\n",
    "consumer2.subscribe(['polarities'])\n",
    "consumer3.subscribe(['polarities'])"
   ]
  },
  {
   "cell_type": "code",
   "execution_count": 7,
   "metadata": {},
   "outputs": [
    {
     "data": {
      "text/plain": [
       "[b'testing2',\n",
       " b'testing5',\n",
       " b'testing2',\n",
       " b'testing5',\n",
       " b'Broker: No more messages']"
      ]
     },
     "execution_count": 7,
     "metadata": {},
     "output_type": "execute_result"
    }
   ],
   "source": [
    "msg = consumer.consume(num_messages=10,timeout=2)\n",
    "[m.value() for m in msg]"
   ]
  },
  {
   "cell_type": "code",
   "execution_count": 8,
   "metadata": {},
   "outputs": [
    {
     "data": {
      "text/plain": [
       "[b'testing1', b'testing4', b'Broker: No more messages']"
      ]
     },
     "execution_count": 8,
     "metadata": {},
     "output_type": "execute_result"
    }
   ],
   "source": [
    "msg = consumer2.consume(num_messages=10,timeout=2)\n",
    "[m.value() for m in msg]"
   ]
  },
  {
   "cell_type": "code",
   "execution_count": 9,
   "metadata": {},
   "outputs": [
    {
     "data": {
      "text/plain": [
       "[b'testing0',\n",
       " b'testing3',\n",
       " b'testing0',\n",
       " b'testing3',\n",
       " b'testing0',\n",
       " b'testing3',\n",
       " b'Broker: No more messages']"
      ]
     },
     "execution_count": 9,
     "metadata": {},
     "output_type": "execute_result"
    }
   ],
   "source": [
    "msg = consumer3.consume(num_messages=10,timeout=2)\n",
    "[m.value() for m in msg]"
   ]
  },
  {
   "cell_type": "code",
   "execution_count": null,
   "metadata": {},
   "outputs": [],
   "source": []
  }
 ],
 "metadata": {
  "kernelspec": {
   "display_name": "Python 3",
   "language": "python",
   "name": "python3"
  },
  "language_info": {
   "codemirror_mode": {
    "name": "ipython",
    "version": 3
   },
   "file_extension": ".py",
   "mimetype": "text/x-python",
   "name": "python",
   "nbconvert_exporter": "python",
   "pygments_lexer": "ipython3",
   "version": "3.5.3"
  }
 },
 "nbformat": 4,
 "nbformat_minor": 2
}
