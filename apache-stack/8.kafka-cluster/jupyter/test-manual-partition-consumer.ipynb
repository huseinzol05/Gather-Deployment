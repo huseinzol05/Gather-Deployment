{
 "cells": [
  {
   "cell_type": "code",
   "execution_count": 1,
   "metadata": {},
   "outputs": [],
   "source": [
    "from kafka import KafkaProducer\n",
    "from kafka.partitioner import DefaultPartitioner, Murmur2Partitioner, RoundRobinPartitioner\n",
    "from kafka import TopicPartition\n",
    "from kafka import KafkaConsumer"
   ]
  },
  {
   "cell_type": "code",
   "execution_count": 2,
   "metadata": {},
   "outputs": [],
   "source": [
    "def publish_message(producer_instance, topic_name, key, value):\n",
    "    try:\n",
    "        key_bytes = bytes(key, encoding = 'utf-8')\n",
    "        value_bytes = bytes(value, encoding = 'utf-8')\n",
    "        x = producer_instance.send(topic_name, value = value_bytes)\n",
    "        producer_instance.flush()\n",
    "        return x\n",
    "    except Exception as ex:\n",
    "        print('Exception in publishing message')\n",
    "        print(str(ex))\n",
    "\n",
    "\n",
    "def connect_kafka_producer():\n",
    "    print('connecting to kafka')\n",
    "    _producer = None\n",
    "    try:\n",
    "        _producer = KafkaProducer(\n",
    "            bootstrap_servers = ['kafka:9092'], api_version = (0, 10),\n",
    "            partitioner = RoundRobinPartitioner()\n",
    "        )\n",
    "    except Exception as ex:\n",
    "        print('Exception while connecting Kafka')\n",
    "        print(str(ex))\n",
    "    finally:\n",
    "        print('successfully connected to kafka')\n",
    "        return _producer"
   ]
  },
  {
   "cell_type": "code",
   "execution_count": 3,
   "metadata": {},
   "outputs": [
    {
     "name": "stdout",
     "output_type": "stream",
     "text": [
      "connecting to kafka\n",
      "successfully connected to kafka\n"
     ]
    }
   ],
   "source": [
    "kafka_producer = connect_kafka_producer()"
   ]
  },
  {
   "cell_type": "code",
   "execution_count": 4,
   "metadata": {},
   "outputs": [
    {
     "data": {
      "text/plain": [
       "RecordMetadata(topic='polarities', partition=0, topic_partition=TopicPartition(topic='polarities', partition=0), offset=19, timestamp=1551887786822, checksum=2112411597, serialized_key_size=-1, serialized_value_size=8, serialized_header_size=-1)"
      ]
     },
     "execution_count": 4,
     "metadata": {},
     "output_type": "execute_result"
    }
   ],
   "source": [
    "publish_message(kafka_producer, 'polarities', 'polarity', 'testing0').get(timeout=10)"
   ]
  },
  {
   "cell_type": "code",
   "execution_count": 5,
   "metadata": {},
   "outputs": [
    {
     "data": {
      "text/plain": [
       "RecordMetadata(topic='polarities', partition=1, topic_partition=TopicPartition(topic='polarities', partition=1), offset=17, timestamp=1551887786890, checksum=2017272086, serialized_key_size=-1, serialized_value_size=8, serialized_header_size=-1)"
      ]
     },
     "execution_count": 5,
     "metadata": {},
     "output_type": "execute_result"
    }
   ],
   "source": [
    "publish_message(kafka_producer, 'polarities', 'polarity', 'testing1').get(timeout=10)"
   ]
  },
  {
   "cell_type": "code",
   "execution_count": 6,
   "metadata": {},
   "outputs": [
    {
     "data": {
      "text/plain": [
       "RecordMetadata(topic='polarities', partition=2, topic_partition=TopicPartition(topic='polarities', partition=2), offset=16, timestamp=1551887787000, checksum=1371287064, serialized_key_size=-1, serialized_value_size=8, serialized_header_size=-1)"
      ]
     },
     "execution_count": 6,
     "metadata": {},
     "output_type": "execute_result"
    }
   ],
   "source": [
    "publish_message(kafka_producer, 'polarities', 'polarity', 'testing2').get(timeout=10)"
   ]
  },
  {
   "cell_type": "code",
   "execution_count": 7,
   "metadata": {},
   "outputs": [
    {
     "data": {
      "text/plain": [
       "{0, 1, 2}"
      ]
     },
     "execution_count": 7,
     "metadata": {},
     "output_type": "execute_result"
    }
   ],
   "source": [
    "kafka_producer.partitions_for('polarities')"
   ]
  },
  {
   "cell_type": "code",
   "execution_count": 8,
   "metadata": {},
   "outputs": [],
   "source": [
    "consumer = KafkaConsumer(\n",
    "    bootstrap_servers = ['kafka:9092'],\n",
    "    api_version = (0, 10),\n",
    "    consumer_timeout_ms = 1000,\n",
    ")\n",
    "consumer.assign([TopicPartition(topic='polarities',partition=0)])"
   ]
  },
  {
   "cell_type": "code",
   "execution_count": 9,
   "metadata": {},
   "outputs": [],
   "source": [
    "consumer2 = KafkaConsumer(\n",
    "    bootstrap_servers = ['kafka:9092'],\n",
    "    api_version = (0, 10),\n",
    "    consumer_timeout_ms = 1000,\n",
    ")\n",
    "consumer2.assign([TopicPartition(topic='polarities',partition=1)])"
   ]
  },
  {
   "cell_type": "code",
   "execution_count": 10,
   "metadata": {},
   "outputs": [],
   "source": [
    "consumer3 = KafkaConsumer(\n",
    "    bootstrap_servers = ['kafka:9092'],\n",
    "    api_version = (0, 10),\n",
    "    consumer_timeout_ms = 1000,\n",
    ")\n",
    "consumer3.assign([TopicPartition(topic='polarities',partition=2)])"
   ]
  },
  {
   "cell_type": "code",
   "execution_count": 11,
   "metadata": {},
   "outputs": [
    {
     "name": "stdout",
     "output_type": "stream",
     "text": [
      "[]\n"
     ]
    }
   ],
   "source": [
    "print([msg.value.decode('utf-8') for msg in consumer])"
   ]
  },
  {
   "cell_type": "code",
   "execution_count": 12,
   "metadata": {},
   "outputs": [
    {
     "name": "stdout",
     "output_type": "stream",
     "text": [
      "[]\n"
     ]
    }
   ],
   "source": [
    "print([msg.value.decode('utf-8') for msg in consumer2])"
   ]
  },
  {
   "cell_type": "code",
   "execution_count": 13,
   "metadata": {},
   "outputs": [
    {
     "name": "stdout",
     "output_type": "stream",
     "text": [
      "[]\n"
     ]
    }
   ],
   "source": [
    "print([msg.value.decode('utf-8') for msg in consumer3])"
   ]
  },
  {
   "cell_type": "code",
   "execution_count": 14,
   "metadata": {},
   "outputs": [
    {
     "data": {
      "text/plain": [
       "<kafka.producer.future.FutureRecordMetadata at 0x7f97d00fa860>"
      ]
     },
     "execution_count": 14,
     "metadata": {},
     "output_type": "execute_result"
    }
   ],
   "source": [
    "publish_message(kafka_producer, 'polarities', 'polarity', 'testing0')\n",
    "publish_message(kafka_producer, 'polarities', 'polarity', 'testing1')\n",
    "publish_message(kafka_producer, 'polarities', 'polarity', 'testing2')"
   ]
  },
  {
   "cell_type": "code",
   "execution_count": 15,
   "metadata": {},
   "outputs": [
    {
     "name": "stdout",
     "output_type": "stream",
     "text": [
      "['testing0']\n"
     ]
    }
   ],
   "source": [
    "print([msg.value.decode('utf-8') for msg in consumer])"
   ]
  },
  {
   "cell_type": "code",
   "execution_count": 16,
   "metadata": {},
   "outputs": [
    {
     "name": "stdout",
     "output_type": "stream",
     "text": [
      "['testing1']\n"
     ]
    }
   ],
   "source": [
    "print([msg.value.decode('utf-8') for msg in consumer2])"
   ]
  },
  {
   "cell_type": "code",
   "execution_count": 17,
   "metadata": {},
   "outputs": [
    {
     "name": "stdout",
     "output_type": "stream",
     "text": [
      "['testing2']\n"
     ]
    }
   ],
   "source": [
    "print([msg.value.decode('utf-8') for msg in consumer3])"
   ]
  },
  {
   "cell_type": "code",
   "execution_count": null,
   "metadata": {},
   "outputs": [],
   "source": []
  }
 ],
 "metadata": {
  "kernelspec": {
   "display_name": "Python 3",
   "language": "python",
   "name": "python3"
  },
  "language_info": {
   "codemirror_mode": {
    "name": "ipython",
    "version": 3
   },
   "file_extension": ".py",
   "mimetype": "text/x-python",
   "name": "python",
   "nbconvert_exporter": "python",
   "pygments_lexer": "ipython3",
   "version": "3.5.3"
  }
 },
 "nbformat": 4,
 "nbformat_minor": 2
}
