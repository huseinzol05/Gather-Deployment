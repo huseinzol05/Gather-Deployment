{
 "cells": [
  {
   "cell_type": "code",
   "execution_count": 1,
   "id": "b71efddd",
   "metadata": {},
   "outputs": [],
   "source": [
    "from pyflink.table import DataTypes, TableEnvironment, EnvironmentSettings\n",
    "from pyflink.table.expressions import lit, call\n",
    "from pyflink.table.udf import ScalarFunction\n",
    "from pyflink.table.udf import udf"
   ]
  },
  {
   "cell_type": "code",
   "execution_count": 2,
   "id": "86b56175",
   "metadata": {},
   "outputs": [],
   "source": [
    "import re\n",
    "\n",
    "def cleaning(string):\n",
    "    string = ' '.join([w for w in string.split() if w.find('@') < 0])\n",
    "    string = re.sub('\\(dot\\)', '.', string)\n",
    "    string = (\n",
    "        re.sub(re.findall(r'\\<a(.*?)\\>', string)[0], '', string)\n",
    "        if (len(re.findall(r'\\<a (.*?)\\>', string)) > 0)\n",
    "        and ('href' in re.findall(r'\\<a (.*?)\\>', string)[0])\n",
    "        else string\n",
    "    )\n",
    "    string = re.sub(\n",
    "        r'\\w+:\\/{2}[\\d\\w-]+(\\.[\\d\\w-]+)*(?:(?:\\/[^\\s/]*))*', ' ', string\n",
    "    )\n",
    "    string = re.sub('[^A-Za-z0-9 ]+', ' ', string)\n",
    "    string = re.sub(r'[ ]+', ' ', string).strip()\n",
    "    return string.lower()"
   ]
  },
  {
   "cell_type": "code",
   "execution_count": 3,
   "id": "e462ef00",
   "metadata": {},
   "outputs": [],
   "source": [
    "settings = EnvironmentSettings.new_instance().in_batch_mode().use_blink_planner().build()\n",
    "t_env = TableEnvironment.create(settings)"
   ]
  },
  {
   "cell_type": "code",
   "execution_count": 4,
   "id": "5e1faa6f",
   "metadata": {},
   "outputs": [],
   "source": [
    "# !hdfs dfs -put tfidf-nb-malay-sentiment.pkl hdfs://hdfs:9000/user/"
   ]
  },
  {
   "cell_type": "code",
   "execution_count": 5,
   "id": "532a1540",
   "metadata": {},
   "outputs": [],
   "source": [
    "class SentimentClassifier(ScalarFunction):\n",
    "    def __init__(self, filename = 'tfidf-nb-malay-sentiment.pkl'):\n",
    "        import pydoop.hdfs\n",
    "        import os\n",
    "        import pickle\n",
    "        \n",
    "        hdfs = pydoop.hdfs.hdfs(host = 'hdfs', port = 9000)\n",
    "        with hdfs.open_file(os.path.join('/user', filename), 'rb') as fopen:\n",
    "            self.model = pickle.loads(fopen.read())\n",
    "\n",
    "    def eval(self, string):\n",
    "        return str(self.model.predict([cleaning(string)])[0])"
   ]
  },
  {
   "cell_type": "code",
   "execution_count": 6,
   "id": "35b714eb",
   "metadata": {},
   "outputs": [
    {
     "name": "stderr",
     "output_type": "stream",
     "text": [
      "2022-04-16 14:32:51,296 WARN util.NativeCodeLoader: Unable to load native-hadoop library for your platform... using builtin-java classes where applicable\n"
     ]
    }
   ],
   "source": [
    "classifier = SentimentClassifier()"
   ]
  },
  {
   "cell_type": "code",
   "execution_count": 7,
   "id": "453b3460",
   "metadata": {},
   "outputs": [
    {
     "data": {
      "text/plain": [
       "'Negative'"
      ]
     },
     "execution_count": 7,
     "metadata": {},
     "output_type": "execute_result"
    }
   ],
   "source": [
    "classifier.eval('saya busuk')"
   ]
  },
  {
   "cell_type": "code",
   "execution_count": 8,
   "id": "7fc1d83e",
   "metadata": {},
   "outputs": [],
   "source": [
    "sentiment_classifier = udf(classifier, result_type=DataTypes.STRING())"
   ]
  },
  {
   "cell_type": "code",
   "execution_count": 9,
   "id": "3ee503d5",
   "metadata": {},
   "outputs": [],
   "source": [
    "t_env.register_function('sentiment_classifier', sentiment_classifier)"
   ]
  },
  {
   "cell_type": "code",
   "execution_count": 10,
   "id": "e18abfb3",
   "metadata": {},
   "outputs": [],
   "source": [
    "# !wget https://raw.githubusercontent.com/huseinzol05/malay-dataset/master/sentiment/supervised-twitter/data.csv"
   ]
  },
  {
   "cell_type": "code",
   "execution_count": 11,
   "id": "ec61564e",
   "metadata": {},
   "outputs": [
    {
     "data": {
      "text/html": [
       "<div>\n",
       "<style scoped>\n",
       "    .dataframe tbody tr th:only-of-type {\n",
       "        vertical-align: middle;\n",
       "    }\n",
       "\n",
       "    .dataframe tbody tr th {\n",
       "        vertical-align: top;\n",
       "    }\n",
       "\n",
       "    .dataframe thead th {\n",
       "        text-align: right;\n",
       "    }\n",
       "</style>\n",
       "<table border=\"1\" class=\"dataframe\">\n",
       "  <thead>\n",
       "    <tr style=\"text-align: right;\">\n",
       "      <th></th>\n",
       "      <th>text</th>\n",
       "      <th>id</th>\n",
       "      <th>sentiment</th>\n",
       "      <th>annotator</th>\n",
       "      <th>annotation_id</th>\n",
       "      <th>created_at</th>\n",
       "      <th>updated_at</th>\n",
       "      <th>lead_time</th>\n",
       "    </tr>\n",
       "  </thead>\n",
       "  <tbody>\n",
       "    <tr>\n",
       "      <th>0</th>\n",
       "      <td>perempuan tu apesal aku rasa mcm pernah nampak...</td>\n",
       "      <td>68381</td>\n",
       "      <td>Neutral</td>\n",
       "      <td>27</td>\n",
       "      <td>4603</td>\n",
       "      <td>2022-02-15T14:04:28.798425Z</td>\n",
       "      <td>2022-02-15T14:04:32.792755Z</td>\n",
       "      <td>21974.040</td>\n",
       "    </tr>\n",
       "    <tr>\n",
       "      <th>1</th>\n",
       "      <td>Polis tangkap dia.</td>\n",
       "      <td>68345</td>\n",
       "      <td>Negative</td>\n",
       "      <td>27</td>\n",
       "      <td>4567</td>\n",
       "      <td>2022-02-15T12:37:58.202450Z</td>\n",
       "      <td>2022-02-15T12:38:00.815718Z</td>\n",
       "      <td>16782.079</td>\n",
       "    </tr>\n",
       "    <tr>\n",
       "      <th>2</th>\n",
       "      <td>Kenapa lokasi kebakaran nya terlalu spesifik? ...</td>\n",
       "      <td>68325</td>\n",
       "      <td>Negative</td>\n",
       "      <td>27</td>\n",
       "      <td>4547</td>\n",
       "      <td>2022-02-15T11:47:23.902859Z</td>\n",
       "      <td>2022-02-15T11:47:27.849352Z</td>\n",
       "      <td>13749.111</td>\n",
       "    </tr>\n",
       "    <tr>\n",
       "      <th>3</th>\n",
       "      <td>@YuleumSummer Waa senang nye lah nk bersalin.....</td>\n",
       "      <td>68286</td>\n",
       "      <td>Positive</td>\n",
       "      <td>27</td>\n",
       "      <td>4508</td>\n",
       "      <td>2022-02-15T08:59:24.606503Z</td>\n",
       "      <td>2022-02-15T08:59:27.475987Z</td>\n",
       "      <td>3668.697</td>\n",
       "    </tr>\n",
       "    <tr>\n",
       "      <th>4</th>\n",
       "      <td>DAULAT TUANKU! Merafak sembah dan takzim KDYMM...</td>\n",
       "      <td>68247</td>\n",
       "      <td>Positive</td>\n",
       "      <td>27</td>\n",
       "      <td>4469</td>\n",
       "      <td>2022-02-15T08:34:10.363218Z</td>\n",
       "      <td>2022-02-15T08:34:13.342956Z</td>\n",
       "      <td>2154.577</td>\n",
       "    </tr>\n",
       "  </tbody>\n",
       "</table>\n",
       "</div>"
      ],
      "text/plain": [
       "                                                text     id sentiment  \\\n",
       "0  perempuan tu apesal aku rasa mcm pernah nampak...  68381   Neutral   \n",
       "1                                 Polis tangkap dia.  68345  Negative   \n",
       "2  Kenapa lokasi kebakaran nya terlalu spesifik? ...  68325  Negative   \n",
       "3  @YuleumSummer Waa senang nye lah nk bersalin.....  68286  Positive   \n",
       "4  DAULAT TUANKU! Merafak sembah dan takzim KDYMM...  68247  Positive   \n",
       "\n",
       "   annotator  annotation_id                   created_at  \\\n",
       "0         27           4603  2022-02-15T14:04:28.798425Z   \n",
       "1         27           4567  2022-02-15T12:37:58.202450Z   \n",
       "2         27           4547  2022-02-15T11:47:23.902859Z   \n",
       "3         27           4508  2022-02-15T08:59:24.606503Z   \n",
       "4         27           4469  2022-02-15T08:34:10.363218Z   \n",
       "\n",
       "                    updated_at  lead_time  \n",
       "0  2022-02-15T14:04:32.792755Z  21974.040  \n",
       "1  2022-02-15T12:38:00.815718Z  16782.079  \n",
       "2  2022-02-15T11:47:27.849352Z  13749.111  \n",
       "3  2022-02-15T08:59:27.475987Z   3668.697  \n",
       "4  2022-02-15T08:34:13.342956Z   2154.577  "
      ]
     },
     "execution_count": 11,
     "metadata": {},
     "output_type": "execute_result"
    }
   ],
   "source": [
    "import pandas as pd\n",
    "\n",
    "filename = 'data.csv'\n",
    "df = pd.read_csv(filename, sep = '\\t')\n",
    "df.head()"
   ]
  },
  {
   "cell_type": "code",
   "execution_count": 12,
   "id": "e31fc345",
   "metadata": {},
   "outputs": [],
   "source": [
    "columns = df.columns.tolist()\n",
    "columns = ', '.join([f'`{c}` VARCHAR' for c in columns])"
   ]
  },
  {
   "cell_type": "code",
   "execution_count": 13,
   "id": "11bf1010",
   "metadata": {},
   "outputs": [],
   "source": [
    "import pydoop.hdfs\n",
    "import os\n",
    "\n",
    "hdfs = pydoop.hdfs.hdfs(host = 'hdfs', port = 9000)\n",
    "\n",
    "with hdfs.open_file(os.path.join('/user', filename), 'wb') as fopen:\n",
    "    with open(filename, 'r') as fopen_csv:\n",
    "        fopen.write(fopen_csv.read().encode())"
   ]
  },
  {
   "cell_type": "code",
   "execution_count": 14,
   "id": "f77c26b8",
   "metadata": {},
   "outputs": [
    {
     "data": {
      "text/plain": [
       "<pyflink.table.table_result.TableResult at 0x7fe9ce7e3730>"
      ]
     },
     "execution_count": 14,
     "metadata": {},
     "output_type": "execute_result"
    }
   ],
   "source": [
    "hdfs_path_input = f'hdfs://hdfs:9000/user/{filename}'\n",
    "hdfs_path = f'hdfs://hdfs:9000/user/{filename}_output'\n",
    "\n",
    "my_source_ddl = f\"\"\"\n",
    "    create table mySource (\n",
    "        {columns}\n",
    "    ) with (\n",
    "        'connector' = 'filesystem',\n",
    "        'format' = 'csv',\n",
    "        'csv.field-delimiter' = '\\t',\n",
    "        'path' = '{hdfs_path_input}'\n",
    "    )\n",
    "\"\"\"\n",
    "\n",
    "my_sink_ddl = f\"\"\"\n",
    "    create table mySink (\n",
    "        `id` VARCHAR PRIMARY KEY NOT ENFORCED,\n",
    "        sentence VARCHAR,\n",
    "        label VARCHAR\n",
    "    ) with (\n",
    "        'connector' = 'hudi',\n",
    "        'path' = '{hdfs_path}',\n",
    "        'table.type' = 'MERGE_ON_READ'\n",
    "    )\n",
    "\"\"\"\n",
    "\n",
    "t_env.execute_sql(my_source_ddl)\n",
    "t_env.execute_sql(my_sink_ddl)"
   ]
  },
  {
   "cell_type": "code",
   "execution_count": 15,
   "id": "2efa91be",
   "metadata": {
    "scrolled": true
   },
   "outputs": [
    {
     "data": {
      "text/plain": [
       "<pyflink.table.table.Table at 0x7fe9ef9ca250>"
      ]
     },
     "execution_count": 15,
     "metadata": {},
     "output_type": "execute_result"
    }
   ],
   "source": [
    "tab = t_env.from_path('mySource').offset(1)\n",
    "tab"
   ]
  },
  {
   "cell_type": "code",
   "execution_count": 16,
   "id": "b6c427da",
   "metadata": {},
   "outputs": [
    {
     "data": {
      "text/html": [
       "<div>\n",
       "<style scoped>\n",
       "    .dataframe tbody tr th:only-of-type {\n",
       "        vertical-align: middle;\n",
       "    }\n",
       "\n",
       "    .dataframe tbody tr th {\n",
       "        vertical-align: top;\n",
       "    }\n",
       "\n",
       "    .dataframe thead th {\n",
       "        text-align: right;\n",
       "    }\n",
       "</style>\n",
       "<table border=\"1\" class=\"dataframe\">\n",
       "  <thead>\n",
       "    <tr style=\"text-align: right;\">\n",
       "      <th></th>\n",
       "      <th>text</th>\n",
       "      <th>id</th>\n",
       "      <th>sentiment</th>\n",
       "      <th>annotator</th>\n",
       "      <th>annotation_id</th>\n",
       "      <th>created_at</th>\n",
       "      <th>updated_at</th>\n",
       "      <th>lead_time</th>\n",
       "    </tr>\n",
       "  </thead>\n",
       "  <tbody>\n",
       "    <tr>\n",
       "      <th>0</th>\n",
       "      <td>perempuan tu apesal aku rasa mcm pernah nampak...</td>\n",
       "      <td>68381</td>\n",
       "      <td>Neutral</td>\n",
       "      <td>27</td>\n",
       "      <td>4603</td>\n",
       "      <td>2022-02-15T14:04:28.798425Z</td>\n",
       "      <td>2022-02-15T14:04:32.792755Z</td>\n",
       "      <td>21974.04</td>\n",
       "    </tr>\n",
       "    <tr>\n",
       "      <th>1</th>\n",
       "      <td>Polis tangkap dia.</td>\n",
       "      <td>68345</td>\n",
       "      <td>Negative</td>\n",
       "      <td>27</td>\n",
       "      <td>4567</td>\n",
       "      <td>2022-02-15T12:37:58.202450Z</td>\n",
       "      <td>2022-02-15T12:38:00.815718Z</td>\n",
       "      <td>16782.079</td>\n",
       "    </tr>\n",
       "    <tr>\n",
       "      <th>2</th>\n",
       "      <td>Kenapa lokasi kebakaran nya terlalu spesifik? ...</td>\n",
       "      <td>68325</td>\n",
       "      <td>Negative</td>\n",
       "      <td>27</td>\n",
       "      <td>4547</td>\n",
       "      <td>2022-02-15T11:47:23.902859Z</td>\n",
       "      <td>2022-02-15T11:47:27.849352Z</td>\n",
       "      <td>13749.111</td>\n",
       "    </tr>\n",
       "    <tr>\n",
       "      <th>3</th>\n",
       "      <td>@YuleumSummer Waa senang nye lah nk bersalin.....</td>\n",
       "      <td>68286</td>\n",
       "      <td>Positive</td>\n",
       "      <td>27</td>\n",
       "      <td>4508</td>\n",
       "      <td>2022-02-15T08:59:24.606503Z</td>\n",
       "      <td>2022-02-15T08:59:27.475987Z</td>\n",
       "      <td>3668.697</td>\n",
       "    </tr>\n",
       "    <tr>\n",
       "      <th>4</th>\n",
       "      <td>DAULAT TUANKU! Merafak sembah dan takzim KDYMM...</td>\n",
       "      <td>68247</td>\n",
       "      <td>Positive</td>\n",
       "      <td>27</td>\n",
       "      <td>4469</td>\n",
       "      <td>2022-02-15T08:34:10.363218Z</td>\n",
       "      <td>2022-02-15T08:34:13.342956Z</td>\n",
       "      <td>2154.577</td>\n",
       "    </tr>\n",
       "  </tbody>\n",
       "</table>\n",
       "</div>"
      ],
      "text/plain": [
       "                                                text     id sentiment  \\\n",
       "0  perempuan tu apesal aku rasa mcm pernah nampak...  68381   Neutral   \n",
       "1                                 Polis tangkap dia.  68345  Negative   \n",
       "2  Kenapa lokasi kebakaran nya terlalu spesifik? ...  68325  Negative   \n",
       "3  @YuleumSummer Waa senang nye lah nk bersalin.....  68286  Positive   \n",
       "4  DAULAT TUANKU! Merafak sembah dan takzim KDYMM...  68247  Positive   \n",
       "\n",
       "  annotator annotation_id                   created_at  \\\n",
       "0        27          4603  2022-02-15T14:04:28.798425Z   \n",
       "1        27          4567  2022-02-15T12:37:58.202450Z   \n",
       "2        27          4547  2022-02-15T11:47:23.902859Z   \n",
       "3        27          4508  2022-02-15T08:59:24.606503Z   \n",
       "4        27          4469  2022-02-15T08:34:10.363218Z   \n",
       "\n",
       "                    updated_at  lead_time  \n",
       "0  2022-02-15T14:04:32.792755Z   21974.04  \n",
       "1  2022-02-15T12:38:00.815718Z  16782.079  \n",
       "2  2022-02-15T11:47:27.849352Z  13749.111  \n",
       "3  2022-02-15T08:59:27.475987Z   3668.697  \n",
       "4  2022-02-15T08:34:13.342956Z   2154.577  "
      ]
     },
     "execution_count": 16,
     "metadata": {},
     "output_type": "execute_result"
    }
   ],
   "source": [
    "tab.to_pandas().head()"
   ]
  },
  {
   "cell_type": "code",
   "execution_count": 17,
   "id": "b97ba8d5",
   "metadata": {},
   "outputs": [],
   "source": [
    "tab.select('id, text, sentiment_classifier(text) as label') \\\n",
    "   .execute_insert('mySink', overwrite = True).wait()"
   ]
  },
  {
   "cell_type": "code",
   "execution_count": 18,
   "id": "f2b9a0b6",
   "metadata": {},
   "outputs": [
    {
     "name": "stdout",
     "output_type": "stream",
     "text": [
      "2022-04-16 14:33:34,688 INFO  org.apache.hadoop.conf.Configuration.deprecation             [] - mapred.job.map.memory.mb is deprecated. Instead, use mapreduce.map.memory.mb\n"
     ]
    },
    {
     "data": {
      "text/html": [
       "<div>\n",
       "<style scoped>\n",
       "    .dataframe tbody tr th:only-of-type {\n",
       "        vertical-align: middle;\n",
       "    }\n",
       "\n",
       "    .dataframe tbody tr th {\n",
       "        vertical-align: top;\n",
       "    }\n",
       "\n",
       "    .dataframe thead th {\n",
       "        text-align: right;\n",
       "    }\n",
       "</style>\n",
       "<table border=\"1\" class=\"dataframe\">\n",
       "  <thead>\n",
       "    <tr style=\"text-align: right;\">\n",
       "      <th></th>\n",
       "      <th>id</th>\n",
       "      <th>sentence</th>\n",
       "      <th>label</th>\n",
       "    </tr>\n",
       "  </thead>\n",
       "  <tbody>\n",
       "    <tr>\n",
       "      <th>0</th>\n",
       "      <td>67300</td>\n",
       "      <td>Ingatkan nak ke VG Tropicana Gardens, sekali b...</td>\n",
       "      <td>Neutral</td>\n",
       "    </tr>\n",
       "    <tr>\n",
       "      <th>1</th>\n",
       "      <td>67784</td>\n",
       "      <td>Sejumlah 384,000 dos vaksin COVID-19 telah sel...</td>\n",
       "      <td>Positive</td>\n",
       "    </tr>\n",
       "    <tr>\n",
       "      <th>2</th>\n",
       "      <td>67542</td>\n",
       "      <td>Kawasan alam semula jadi di bukit batu putih i...</td>\n",
       "      <td>Positive</td>\n",
       "    </tr>\n",
       "    <tr>\n",
       "      <th>3</th>\n",
       "      <td>66453</td>\n",
       "      <td>Untuk geng kedah, hangpa kalau ada kemusykilan...</td>\n",
       "      <td>Negative</td>\n",
       "    </tr>\n",
       "    <tr>\n",
       "      <th>4</th>\n",
       "      <td>67543</td>\n",
       "      <td>@Fatinnabilaaa__ @bong_adelina @fazielahrosli ...</td>\n",
       "      <td>Negative</td>\n",
       "    </tr>\n",
       "    <tr>\n",
       "      <th>...</th>\n",
       "      <td>...</td>\n",
       "      <td>...</td>\n",
       "      <td>...</td>\n",
       "    </tr>\n",
       "    <tr>\n",
       "      <th>2002</th>\n",
       "      <td>68069</td>\n",
       "      <td>Beg picnic / Playground Zenia ni jd pekasam ja...</td>\n",
       "      <td>Neutral</td>\n",
       "    </tr>\n",
       "    <tr>\n",
       "      <th>2003</th>\n",
       "      <td>80176</td>\n",
       "      <td>Just posted a photo @ Bandar Tanah Merah, Kela...</td>\n",
       "      <td>Neutral</td>\n",
       "    </tr>\n",
       "    <tr>\n",
       "      <th>2004</th>\n",
       "      <td>68062</td>\n",
       "      <td>Area gebeng kuantan ada tak ? Nampak sedap jeeee</td>\n",
       "      <td>Positive</td>\n",
       "    </tr>\n",
       "    <tr>\n",
       "      <th>2005</th>\n",
       "      <td>80175</td>\n",
       "      <td>@STRAWB3RRYMOO nanti kalau dh boleh rentas neg...</td>\n",
       "      <td>Positive</td>\n",
       "    </tr>\n",
       "    <tr>\n",
       "      <th>2006</th>\n",
       "      <td>68067</td>\n",
       "      <td>LOCAL: Terengganu (dah berapa kali postpone ti...</td>\n",
       "      <td>Neutral</td>\n",
       "    </tr>\n",
       "  </tbody>\n",
       "</table>\n",
       "<p>2007 rows × 3 columns</p>\n",
       "</div>"
      ],
      "text/plain": [
       "         id                                           sentence     label\n",
       "0     67300  Ingatkan nak ke VG Tropicana Gardens, sekali b...   Neutral\n",
       "1     67784  Sejumlah 384,000 dos vaksin COVID-19 telah sel...  Positive\n",
       "2     67542  Kawasan alam semula jadi di bukit batu putih i...  Positive\n",
       "3     66453  Untuk geng kedah, hangpa kalau ada kemusykilan...  Negative\n",
       "4     67543  @Fatinnabilaaa__ @bong_adelina @fazielahrosli ...  Negative\n",
       "...     ...                                                ...       ...\n",
       "2002  68069  Beg picnic / Playground Zenia ni jd pekasam ja...   Neutral\n",
       "2003  80176  Just posted a photo @ Bandar Tanah Merah, Kela...   Neutral\n",
       "2004  68062   Area gebeng kuantan ada tak ? Nampak sedap jeeee  Positive\n",
       "2005  80175  @STRAWB3RRYMOO nanti kalau dh boleh rentas neg...  Positive\n",
       "2006  68067  LOCAL: Terengganu (dah berapa kali postpone ti...   Neutral\n",
       "\n",
       "[2007 rows x 3 columns]"
      ]
     },
     "execution_count": 18,
     "metadata": {},
     "output_type": "execute_result"
    }
   ],
   "source": [
    "tab = t_env.from_path('mySink')\n",
    "tab.to_pandas()"
   ]
  },
  {
   "cell_type": "code",
   "execution_count": null,
   "id": "d0fe5a38",
   "metadata": {},
   "outputs": [],
   "source": []
  }
 ],
 "metadata": {
  "kernelspec": {
   "display_name": "Python 3 (ipykernel)",
   "language": "python",
   "name": "python3"
  },
  "language_info": {
   "codemirror_mode": {
    "name": "ipython",
    "version": 3
   },
   "file_extension": ".py",
   "mimetype": "text/x-python",
   "name": "python",
   "nbconvert_exporter": "python",
   "pygments_lexer": "ipython3",
   "version": "3.8.10"
  }
 },
 "nbformat": 4,
 "nbformat_minor": 5
}
