{
 "cells": [
  {
   "cell_type": "code",
   "execution_count": 1,
   "id": "b71efddd",
   "metadata": {},
   "outputs": [],
   "source": [
    "from pyflink.table import DataTypes, TableEnvironment, EnvironmentSettings\n",
    "from pyflink.table.expressions import lit, call\n",
    "from pyflink.table.udf import ScalarFunction\n",
    "from pyflink.table.udf import udf\n",
    "from pyflink.table.catalog import JdbcCatalog, CatalogBaseTable, ObjectPath\n",
    "from pyflink.table import *"
   ]
  },
  {
   "cell_type": "code",
   "execution_count": 2,
   "id": "86b56175",
   "metadata": {},
   "outputs": [],
   "source": [
    "import re\n",
    "\n",
    "def cleaning(string):\n",
    "    string = ' '.join([w for w in string.split() if w.find('@') < 0])\n",
    "    string = re.sub('\\(dot\\)', '.', string)\n",
    "    string = (\n",
    "        re.sub(re.findall(r'\\<a(.*?)\\>', string)[0], '', string)\n",
    "        if (len(re.findall(r'\\<a (.*?)\\>', string)) > 0)\n",
    "        and ('href' in re.findall(r'\\<a (.*?)\\>', string)[0])\n",
    "        else string\n",
    "    )\n",
    "    string = re.sub(\n",
    "        r'\\w+:\\/{2}[\\d\\w-]+(\\.[\\d\\w-]+)*(?:(?:\\/[^\\s/]*))*', ' ', string\n",
    "    )\n",
    "    string = re.sub('[^A-Za-z0-9 ]+', ' ', string)\n",
    "    string = re.sub(r'[ ]+', ' ', string).strip()\n",
    "    return string.lower()"
   ]
  },
  {
   "cell_type": "code",
   "execution_count": 3,
   "id": "e462ef00",
   "metadata": {},
   "outputs": [],
   "source": [
    "settings = EnvironmentSettings.new_instance().in_streaming_mode().use_blink_planner().build()\n",
    "t_env = TableEnvironment.create(settings)"
   ]
  },
  {
   "cell_type": "code",
   "execution_count": 4,
   "id": "2e999469",
   "metadata": {},
   "outputs": [],
   "source": [
    "name = \"my_catalog\"\n",
    "default_database = \"postgres\"\n",
    "username = \"postgres\"\n",
    "password = \"postgres\"\n",
    "base_url = \"jdbc:postgresql://postgresql:5432\"\n",
    "\n",
    "catalog = JdbcCatalog(name, default_database, username, password, base_url)\n",
    "t_env.register_catalog(name, catalog)"
   ]
  },
  {
   "cell_type": "code",
   "execution_count": 5,
   "id": "27c7476b",
   "metadata": {
    "scrolled": true
   },
   "outputs": [
    {
     "data": {
      "text/plain": [
       "['public.employee',\n",
       " 'public.employee_salary',\n",
       " 'public.employee_test',\n",
       " 'public.salary']"
      ]
     },
     "execution_count": 5,
     "metadata": {},
     "output_type": "execute_result"
    }
   ],
   "source": [
    "catalog.list_tables('postgres')"
   ]
  },
  {
   "cell_type": "code",
   "execution_count": 6,
   "id": "9be3eecf",
   "metadata": {},
   "outputs": [
    {
     "name": "stdout",
     "output_type": "stream",
     "text": [
      "(\n",
      "  `id` INT NOT NULL,\n",
      "  `name` STRING,\n",
      "  `last_update` TIMESTAMP(6),\n",
      "  `last_comment` STRING,\n",
      "  `time_created` TIMESTAMP(6)\n",
      ")\n"
     ]
    }
   ],
   "source": [
    "table_employee = t_env.sql_query('SELECT * FROM my_catalog.postgres.employee')\n",
    "table_employee.print_schema()"
   ]
  },
  {
   "cell_type": "code",
   "execution_count": 7,
   "id": "ba8f8840",
   "metadata": {},
   "outputs": [
    {
     "name": "stdout",
     "output_type": "stream",
     "text": [
      "(\n",
      "  `id` INT NOT NULL,\n",
      "  `salary` DOUBLE\n",
      ")\n"
     ]
    }
   ],
   "source": [
    "table_salary = t_env.sql_query('SELECT * FROM my_catalog.postgres.salary')\n",
    "table_salary.print_schema()"
   ]
  },
  {
   "cell_type": "code",
   "execution_count": 8,
   "id": "f0196b37",
   "metadata": {},
   "outputs": [],
   "source": [
    "# table_salary.to_pandas()"
   ]
  },
  {
   "cell_type": "code",
   "execution_count": 9,
   "id": "d488515e",
   "metadata": {},
   "outputs": [
    {
     "data": {
      "text/plain": [
       "<pyflink.table.table_result.TableResult at 0x7f06f47e8ee0>"
      ]
     },
     "execution_count": 9,
     "metadata": {},
     "output_type": "execute_result"
    }
   ],
   "source": [
    "source_ddl = f\"\"\"\n",
    "    create table kafka_employee (\n",
    "        id INT,\n",
    "        name VARCHAR,\n",
    "        last_update BIGINT,\n",
    "        last_comment STRING,\n",
    "        time_created BIGINT,\n",
    "        PRIMARY KEY (id) NOT ENFORCED\n",
    "    )\n",
    "    with (\n",
    "        'connector' = 'kafka',\n",
    "        'topic' = 'employee.public.employee',\n",
    "        'properties.bootstrap.servers' = 'broker:9092',\n",
    "        'properties.group.id' = 'testGroup9',\n",
    "        'scan.startup.mode' = 'earliest-offset',\n",
    "        'format' = 'debezium-json',\n",
    "        'debezium-json.schema-include' = 'true'\n",
    "    )\n",
    "\"\"\"\n",
    "\n",
    "t_env.execute_sql(source_ddl)"
   ]
  },
  {
   "cell_type": "code",
   "execution_count": 10,
   "id": "2b19d71e",
   "metadata": {},
   "outputs": [
    {
     "data": {
      "text/plain": [
       "<pyflink.table.table_result.TableResult at 0x7f06f47e8cd0>"
      ]
     },
     "execution_count": 10,
     "metadata": {},
     "output_type": "execute_result"
    }
   ],
   "source": [
    "source_ddl = f\"\"\"\n",
    "    create table kafka_salary (\n",
    "        id INT,\n",
    "        salary FLOAT,\n",
    "        PRIMARY KEY (id) NOT ENFORCED\n",
    "    )\n",
    "    with (\n",
    "        'connector' = 'kafka',\n",
    "        'topic' = 'employee.public.salary',\n",
    "        'properties.bootstrap.servers' = 'broker:9092',\n",
    "        'properties.group.id' = 'testGroup9',\n",
    "        'scan.startup.mode' = 'earliest-offset',\n",
    "        'format' = 'debezium-json',\n",
    "        'debezium-json.schema-include' = 'true'\n",
    "    )\n",
    "\"\"\"\n",
    "\n",
    "t_env.execute_sql(source_ddl)"
   ]
  },
  {
   "cell_type": "code",
   "execution_count": 11,
   "id": "013f45f5",
   "metadata": {},
   "outputs": [],
   "source": [
    "# tab = t_env.from_path('kafka_employee')\n",
    "# tab"
   ]
  },
  {
   "cell_type": "code",
   "execution_count": 12,
   "id": "392edf9a",
   "metadata": {},
   "outputs": [],
   "source": [
    "# tab.select('id, name').execute_insert('my_catalog.postgres.employee_test').print()"
   ]
  },
  {
   "cell_type": "code",
   "execution_count": 13,
   "id": "532a1540",
   "metadata": {},
   "outputs": [],
   "source": [
    "class SentimentClassifier(ScalarFunction):\n",
    "    def __init__(self, filename = 'tfidf-nb-malay-sentiment.pkl'):\n",
    "        import pydoop.hdfs\n",
    "        import os\n",
    "        import pickle\n",
    "        \n",
    "        hdfs = pydoop.hdfs.hdfs(host = 'hdfs', port = 9000)\n",
    "        with hdfs.open_file(os.path.join('/user', filename), 'rb') as fopen:\n",
    "            self.model = pickle.loads(fopen.read())\n",
    "\n",
    "    def eval(self, string):\n",
    "        return str(self.model.predict([cleaning(string)])[0])"
   ]
  },
  {
   "cell_type": "code",
   "execution_count": 14,
   "id": "35b714eb",
   "metadata": {},
   "outputs": [
    {
     "name": "stderr",
     "output_type": "stream",
     "text": [
      "2022-03-04 07:27:51,160 WARN util.NativeCodeLoader: Unable to load native-hadoop library for your platform... using builtin-java classes where applicable\n"
     ]
    }
   ],
   "source": [
    "classifier = SentimentClassifier()"
   ]
  },
  {
   "cell_type": "code",
   "execution_count": 15,
   "id": "453b3460",
   "metadata": {},
   "outputs": [
    {
     "data": {
      "text/plain": [
       "'Negative'"
      ]
     },
     "execution_count": 15,
     "metadata": {},
     "output_type": "execute_result"
    }
   ],
   "source": [
    "classifier.eval('saya busuk')"
   ]
  },
  {
   "cell_type": "code",
   "execution_count": 16,
   "id": "7fc1d83e",
   "metadata": {},
   "outputs": [],
   "source": [
    "sentiment_classifier = udf(classifier, result_type=DataTypes.STRING())"
   ]
  },
  {
   "cell_type": "code",
   "execution_count": 17,
   "id": "3ee503d5",
   "metadata": {},
   "outputs": [],
   "source": [
    "t_env.register_function('sentiment_classifier', sentiment_classifier)"
   ]
  },
  {
   "cell_type": "code",
   "execution_count": 18,
   "id": "a54f5787",
   "metadata": {},
   "outputs": [],
   "source": [
    "# \"\"\"\n",
    "# INSERT INTO my_catalog.postgres.employee_salary\n",
    "# \"\"\""
   ]
  },
  {
   "cell_type": "code",
   "execution_count": 19,
   "id": "a3045c80",
   "metadata": {},
   "outputs": [],
   "source": [
    "# tab = t_env.from_path('kafka_salary')"
   ]
  },
  {
   "cell_type": "code",
   "execution_count": 20,
   "id": "557810b1",
   "metadata": {},
   "outputs": [],
   "source": [
    "# \"\"\"\n",
    "# CREATE TABLE IF NOT EXISTS public.employee_salary (\n",
    "#   id INT,\n",
    "#   name text,\n",
    "#   last_comment text,\n",
    "#   sentiment text,\n",
    "#   salary FLOAT,\n",
    "#   last_update TIMESTAMP,\n",
    "#   time_created TIMESTAMP,\n",
    "#   PRIMARY KEY (id)\n",
    "# );\n",
    "\n",
    "# CREATE TABLE IF NOT EXISTS public.employee_test (id INT, name text, PRIMARY KEY (id));\n",
    "# \"\"\""
   ]
  },
  {
   "cell_type": "code",
   "execution_count": 21,
   "id": "a7be99be",
   "metadata": {},
   "outputs": [],
   "source": [
    "sql_join = \"\"\"\n",
    "SELECT s.id, e.name, e.last_comment, sentiment_classifier(e.last_comment) as sentiment,\n",
    "s.salary, e.last_update, e.time_created FROM kafka_salary s, my_catalog.postgres.employee_salary e\n",
    "WHERE s.id = e.id\n",
    "\"\"\"\n",
    "tab_join = t_env.sql_query(sql_join)"
   ]
  },
  {
   "cell_type": "code",
   "execution_count": 22,
   "id": "7143be60",
   "metadata": {},
   "outputs": [
    {
     "name": "stdout",
     "output_type": "stream",
     "text": [
      "(\n",
      "  `id` INT NOT NULL,\n",
      "  `name` STRING,\n",
      "  `last_comment` STRING,\n",
      "  `sentiment` STRING,\n",
      "  `salary` FLOAT,\n",
      "  `last_update` TIMESTAMP(6),\n",
      "  `time_created` TIMESTAMP(6)\n",
      ")\n"
     ]
    }
   ],
   "source": [
    "tab_join.print_schema()"
   ]
  },
  {
   "cell_type": "code",
   "execution_count": 23,
   "id": "01b128a2",
   "metadata": {},
   "outputs": [],
   "source": [
    "insert = tab_join.execute_insert('my_catalog.postgres.employee_salary')"
   ]
  },
  {
   "cell_type": "code",
   "execution_count": 24,
   "id": "3e7c2333",
   "metadata": {},
   "outputs": [
    {
     "data": {
      "text/plain": [
       "['__class__',\n",
       " '__delattr__',\n",
       " '__dict__',\n",
       " '__dir__',\n",
       " '__doc__',\n",
       " '__eq__',\n",
       " '__format__',\n",
       " '__ge__',\n",
       " '__getattribute__',\n",
       " '__gt__',\n",
       " '__hash__',\n",
       " '__init__',\n",
       " '__init_subclass__',\n",
       " '__le__',\n",
       " '__lt__',\n",
       " '__module__',\n",
       " '__ne__',\n",
       " '__new__',\n",
       " '__reduce__',\n",
       " '__reduce_ex__',\n",
       " '__repr__',\n",
       " '__setattr__',\n",
       " '__sizeof__',\n",
       " '__str__',\n",
       " '__subclasshook__',\n",
       " '__weakref__',\n",
       " '_j_table_result',\n",
       " 'collect',\n",
       " 'get_job_client',\n",
       " 'get_result_kind',\n",
       " 'get_table_schema',\n",
       " 'print',\n",
       " 'wait']"
      ]
     },
     "execution_count": 24,
     "metadata": {},
     "output_type": "execute_result"
    }
   ],
   "source": [
    "dir(insert)"
   ]
  },
  {
   "cell_type": "code",
   "execution_count": null,
   "id": "0ddd821d",
   "metadata": {},
   "outputs": [],
   "source": [
    "insert.print()"
   ]
  },
  {
   "cell_type": "code",
   "execution_count": null,
   "id": "c73ed79d",
   "metadata": {},
   "outputs": [],
   "source": []
  }
 ],
 "metadata": {
  "kernelspec": {
   "display_name": "Python 3 (ipykernel)",
   "language": "python",
   "name": "python3"
  },
  "language_info": {
   "codemirror_mode": {
    "name": "ipython",
    "version": 3
   },
   "file_extension": ".py",
   "mimetype": "text/x-python",
   "name": "python",
   "nbconvert_exporter": "python",
   "pygments_lexer": "ipython3",
   "version": "3.8.10"
  }
 },
 "nbformat": 4,
 "nbformat_minor": 5
}
