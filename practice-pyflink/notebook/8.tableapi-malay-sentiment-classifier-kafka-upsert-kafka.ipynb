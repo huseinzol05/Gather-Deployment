{
 "cells": [
  {
   "cell_type": "code",
   "execution_count": 1,
   "id": "b71efddd",
   "metadata": {},
   "outputs": [],
   "source": [
    "from pyflink.table import DataTypes, TableEnvironment, EnvironmentSettings\n",
    "from pyflink.table.expressions import lit, call\n",
    "from pyflink.table.udf import ScalarFunction\n",
    "from pyflink.table.udf import udf\n",
    "from pyflink.table.catalog import JdbcCatalog, CatalogBaseTable, ObjectPath\n",
    "from pyflink.table import *"
   ]
  },
  {
   "cell_type": "code",
   "execution_count": 2,
   "id": "86b56175",
   "metadata": {},
   "outputs": [],
   "source": [
    "import re\n",
    "\n",
    "def cleaning(string):\n",
    "    string = ' '.join([w for w in string.split() if w.find('@') < 0])\n",
    "    string = re.sub('\\(dot\\)', '.', string)\n",
    "    string = (\n",
    "        re.sub(re.findall(r'\\<a(.*?)\\>', string)[0], '', string)\n",
    "        if (len(re.findall(r'\\<a (.*?)\\>', string)) > 0)\n",
    "        and ('href' in re.findall(r'\\<a (.*?)\\>', string)[0])\n",
    "        else string\n",
    "    )\n",
    "    string = re.sub(\n",
    "        r'\\w+:\\/{2}[\\d\\w-]+(\\.[\\d\\w-]+)*(?:(?:\\/[^\\s/]*))*', ' ', string\n",
    "    )\n",
    "    string = re.sub('[^A-Za-z0-9 ]+', ' ', string)\n",
    "    string = re.sub(r'[ ]+', ' ', string).strip()\n",
    "    return string.lower()"
   ]
  },
  {
   "cell_type": "code",
   "execution_count": 3,
   "id": "e462ef00",
   "metadata": {},
   "outputs": [],
   "source": [
    "settings = EnvironmentSettings.new_instance().use_blink_planner().build()\n",
    "t_env = TableEnvironment.create(settings)"
   ]
  },
  {
   "cell_type": "code",
   "execution_count": 4,
   "id": "2e999469",
   "metadata": {},
   "outputs": [],
   "source": [
    "name = \"my_catalog\"\n",
    "default_database = \"postgres\"\n",
    "username = \"postgres\"\n",
    "password = \"postgres\"\n",
    "base_url = \"jdbc:postgresql://postgresql:5432\"\n",
    "\n",
    "catalog = JdbcCatalog(name, default_database, username, password, base_url)\n",
    "t_env.register_catalog(name, catalog)"
   ]
  },
  {
   "cell_type": "code",
   "execution_count": 5,
   "id": "27c7476b",
   "metadata": {
    "scrolled": true
   },
   "outputs": [
    {
     "data": {
      "text/plain": [
       "['public.employee',\n",
       " 'public.employee_salary',\n",
       " 'public.employee_test',\n",
       " 'public.salary']"
      ]
     },
     "execution_count": 5,
     "metadata": {},
     "output_type": "execute_result"
    }
   ],
   "source": [
    "catalog.list_tables('postgres')"
   ]
  },
  {
   "cell_type": "code",
   "execution_count": 6,
   "id": "9be3eecf",
   "metadata": {},
   "outputs": [
    {
     "name": "stdout",
     "output_type": "stream",
     "text": [
      "(\n",
      "  `id` INT NOT NULL,\n",
      "  `name` STRING,\n",
      "  `last_update` TIMESTAMP(6),\n",
      "  `last_comment` STRING,\n",
      "  `time_created` TIMESTAMP(6)\n",
      ")\n"
     ]
    }
   ],
   "source": [
    "table_employee = t_env.sql_query('SELECT * FROM my_catalog.postgres.employee')\n",
    "table_employee.print_schema()"
   ]
  },
  {
   "cell_type": "code",
   "execution_count": 7,
   "id": "ba8f8840",
   "metadata": {},
   "outputs": [
    {
     "name": "stdout",
     "output_type": "stream",
     "text": [
      "(\n",
      "  `id` INT NOT NULL,\n",
      "  `salary` DOUBLE\n",
      ")\n"
     ]
    }
   ],
   "source": [
    "table_salary = t_env.sql_query('SELECT * FROM my_catalog.postgres.salary')\n",
    "table_salary.print_schema()"
   ]
  },
  {
   "cell_type": "code",
   "execution_count": 8,
   "id": "f0196b37",
   "metadata": {},
   "outputs": [
    {
     "data": {
      "text/html": [
       "<div>\n",
       "<style scoped>\n",
       "    .dataframe tbody tr th:only-of-type {\n",
       "        vertical-align: middle;\n",
       "    }\n",
       "\n",
       "    .dataframe tbody tr th {\n",
       "        vertical-align: top;\n",
       "    }\n",
       "\n",
       "    .dataframe thead th {\n",
       "        text-align: right;\n",
       "    }\n",
       "</style>\n",
       "<table border=\"1\" class=\"dataframe\">\n",
       "  <thead>\n",
       "    <tr style=\"text-align: right;\">\n",
       "      <th></th>\n",
       "      <th>id</th>\n",
       "      <th>salary</th>\n",
       "    </tr>\n",
       "  </thead>\n",
       "  <tbody>\n",
       "    <tr>\n",
       "      <th>0</th>\n",
       "      <td>1</td>\n",
       "      <td>1000.0</td>\n",
       "    </tr>\n",
       "    <tr>\n",
       "      <th>1</th>\n",
       "      <td>2</td>\n",
       "      <td>1000.0</td>\n",
       "    </tr>\n",
       "  </tbody>\n",
       "</table>\n",
       "</div>"
      ],
      "text/plain": [
       "   id  salary\n",
       "0   1  1000.0\n",
       "1   2  1000.0"
      ]
     },
     "execution_count": 8,
     "metadata": {},
     "output_type": "execute_result"
    }
   ],
   "source": [
    "table_salary.to_pandas()"
   ]
  },
  {
   "cell_type": "code",
   "execution_count": 9,
   "id": "d488515e",
   "metadata": {},
   "outputs": [
    {
     "data": {
      "text/plain": [
       "<pyflink.table.table_result.TableResult at 0x7f602d88c790>"
      ]
     },
     "execution_count": 9,
     "metadata": {},
     "output_type": "execute_result"
    }
   ],
   "source": [
    "source_ddl = f\"\"\"\n",
    "    create table kafka_employee (\n",
    "        id INT,\n",
    "        name VARCHAR,\n",
    "        last_update BIGINT,\n",
    "        last_comment STRING,\n",
    "        time_created BIGINT,\n",
    "        PRIMARY KEY (id) NOT ENFORCED\n",
    "    )\n",
    "    with (\n",
    "        'connector' = 'kafka',\n",
    "        'topic' = 'employee.public.employee',\n",
    "        'properties.bootstrap.servers' = 'broker:9092',\n",
    "        'properties.group.id' = 'testGroup11',\n",
    "        'scan.startup.mode' = 'earliest-offset',\n",
    "        'format' = 'debezium-json',\n",
    "        'debezium-json.schema-include' = 'true'\n",
    "    )\n",
    "\"\"\"\n",
    "\n",
    "t_env.execute_sql(source_ddl)"
   ]
  },
  {
   "cell_type": "code",
   "execution_count": 10,
   "id": "2b19d71e",
   "metadata": {},
   "outputs": [
    {
     "data": {
      "text/plain": [
       "<pyflink.table.table_result.TableResult at 0x7f607836a6a0>"
      ]
     },
     "execution_count": 10,
     "metadata": {},
     "output_type": "execute_result"
    }
   ],
   "source": [
    "source_ddl = f\"\"\"\n",
    "    create table kafka_salary (\n",
    "        id INT,\n",
    "        salary FLOAT,\n",
    "        PRIMARY KEY (id) NOT ENFORCED\n",
    "    )\n",
    "    with (\n",
    "        'connector' = 'kafka',\n",
    "        'topic' = 'employee.public.salary',\n",
    "        'properties.bootstrap.servers' = 'broker:9092',\n",
    "        'properties.group.id' = 'testGroup11',\n",
    "        'scan.startup.mode' = 'earliest-offset',\n",
    "        'format' = 'debezium-json',\n",
    "        'debezium-json.schema-include' = 'true'\n",
    "    )\n",
    "\"\"\"\n",
    "\n",
    "t_env.execute_sql(source_ddl)"
   ]
  },
  {
   "cell_type": "code",
   "execution_count": 11,
   "id": "013f45f5",
   "metadata": {},
   "outputs": [],
   "source": [
    "# tab = t_env.from_path('kafka_employee')\n",
    "# tab"
   ]
  },
  {
   "cell_type": "code",
   "execution_count": 12,
   "id": "7aebe49c",
   "metadata": {},
   "outputs": [],
   "source": [
    "# t_env.sql_query(\"select id, name, 1 from kafka_employee\").execute_insert('my_catalog.postgres.employee_test').print()"
   ]
  },
  {
   "cell_type": "code",
   "execution_count": 13,
   "id": "532a1540",
   "metadata": {},
   "outputs": [],
   "source": [
    "class SentimentClassifier(ScalarFunction):\n",
    "    def __init__(self, filename = 'tfidf-nb-malay-sentiment.pkl'):\n",
    "        import pydoop.hdfs\n",
    "        import os\n",
    "        import pickle\n",
    "        \n",
    "        hdfs = pydoop.hdfs.hdfs(host = 'hdfs', port = 9000)\n",
    "        with hdfs.open_file(os.path.join('/user', filename), 'rb') as fopen:\n",
    "            self.model = pickle.loads(fopen.read())\n",
    "\n",
    "    def eval(self, string):\n",
    "        return str(self.model.predict([cleaning(string)])[0])"
   ]
  },
  {
   "cell_type": "code",
   "execution_count": 14,
   "id": "35b714eb",
   "metadata": {},
   "outputs": [
    {
     "name": "stderr",
     "output_type": "stream",
     "text": [
      "2022-03-05 07:10:01,151 WARN util.NativeCodeLoader: Unable to load native-hadoop library for your platform... using builtin-java classes where applicable\n"
     ]
    }
   ],
   "source": [
    "classifier = SentimentClassifier()"
   ]
  },
  {
   "cell_type": "code",
   "execution_count": 15,
   "id": "453b3460",
   "metadata": {},
   "outputs": [
    {
     "data": {
      "text/plain": [
       "'Negative'"
      ]
     },
     "execution_count": 15,
     "metadata": {},
     "output_type": "execute_result"
    }
   ],
   "source": [
    "classifier.eval('saya busuk')"
   ]
  },
  {
   "cell_type": "code",
   "execution_count": 16,
   "id": "7fc1d83e",
   "metadata": {},
   "outputs": [],
   "source": [
    "sentiment_classifier = udf(classifier, result_type=DataTypes.STRING())"
   ]
  },
  {
   "cell_type": "code",
   "execution_count": 17,
   "id": "3ee503d5",
   "metadata": {},
   "outputs": [],
   "source": [
    "t_env.register_function('sentiment_classifier', sentiment_classifier)"
   ]
  },
  {
   "cell_type": "code",
   "execution_count": 18,
   "id": "01a1cac4",
   "metadata": {},
   "outputs": [
    {
     "name": "stdout",
     "output_type": "stream",
     "text": [
      "(\n",
      "  `id` INT NOT NULL,\n",
      "  `name` STRING,\n",
      "  `last_update` TIMESTAMP(6),\n",
      "  `last_comment` STRING,\n",
      "  `time_created` TIMESTAMP(6),\n",
      "  `sentiment` STRING,\n",
      "  `salary` DOUBLE\n",
      ")\n"
     ]
    }
   ],
   "source": [
    "sql = \"\"\"\n",
    "select e.*, sentiment_classifier(e.last_comment) as sentiment, s.salary from my_catalog.postgres.employee e,\n",
    "my_catalog.postgres.salary s\n",
    "where e.id = s.id\n",
    "\"\"\"\n",
    "tab = t_env.sql_query(sql)\n",
    "tab.print_schema()"
   ]
  },
  {
   "cell_type": "code",
   "execution_count": 19,
   "id": "6231b530",
   "metadata": {},
   "outputs": [
    {
     "data": {
      "text/html": [
       "<div>\n",
       "<style scoped>\n",
       "    .dataframe tbody tr th:only-of-type {\n",
       "        vertical-align: middle;\n",
       "    }\n",
       "\n",
       "    .dataframe tbody tr th {\n",
       "        vertical-align: top;\n",
       "    }\n",
       "\n",
       "    .dataframe thead th {\n",
       "        text-align: right;\n",
       "    }\n",
       "</style>\n",
       "<table border=\"1\" class=\"dataframe\">\n",
       "  <thead>\n",
       "    <tr style=\"text-align: right;\">\n",
       "      <th></th>\n",
       "      <th>id</th>\n",
       "      <th>name</th>\n",
       "      <th>last_update</th>\n",
       "      <th>last_comment</th>\n",
       "      <th>time_created</th>\n",
       "      <th>sentiment</th>\n",
       "      <th>salary</th>\n",
       "    </tr>\n",
       "  </thead>\n",
       "  <tbody>\n",
       "    <tr>\n",
       "      <th>0</th>\n",
       "      <td>1</td>\n",
       "      <td>husein</td>\n",
       "      <td>2022-03-04 05:01:44.181104</td>\n",
       "      <td>haram jadah betui</td>\n",
       "      <td>2022-03-04 05:01:44.181104</td>\n",
       "      <td>Negative</td>\n",
       "      <td>1000.0</td>\n",
       "    </tr>\n",
       "    <tr>\n",
       "      <th>1</th>\n",
       "      <td>2</td>\n",
       "      <td>kasim</td>\n",
       "      <td>2022-03-04 05:01:44.181104</td>\n",
       "      <td>saya suka kerja disini</td>\n",
       "      <td>2022-03-04 05:01:44.181104</td>\n",
       "      <td>Positive</td>\n",
       "      <td>1000.0</td>\n",
       "    </tr>\n",
       "  </tbody>\n",
       "</table>\n",
       "</div>"
      ],
      "text/plain": [
       "   id    name                last_update            last_comment  \\\n",
       "0   1  husein 2022-03-04 05:01:44.181104       haram jadah betui   \n",
       "1   2   kasim 2022-03-04 05:01:44.181104  saya suka kerja disini   \n",
       "\n",
       "                time_created sentiment  salary  \n",
       "0 2022-03-04 05:01:44.181104  Negative  1000.0  \n",
       "1 2022-03-04 05:01:44.181104  Positive  1000.0  "
      ]
     },
     "execution_count": 19,
     "metadata": {},
     "output_type": "execute_result"
    }
   ],
   "source": [
    "tab.to_pandas()"
   ]
  },
  {
   "cell_type": "code",
   "execution_count": 21,
   "id": "557810b1",
   "metadata": {},
   "outputs": [
    {
     "data": {
      "text/plain": [
       "<pyflink.table.table_result.TableResult at 0x7f5fffacc2e0>"
      ]
     },
     "execution_count": 21,
     "metadata": {},
     "output_type": "execute_result"
    }
   ],
   "source": [
    "sink_ddl = \"\"\"\n",
    "CREATE TABLE employee_salary (\n",
    "    id INT,\n",
    "    name STRING,\n",
    "    last_comment STRING,\n",
    "    sentiment STRING,\n",
    "    SALARY DOUBLE,\n",
    "    last_update TIMESTAMP,\n",
    "    time_created TIMESTAMP,\n",
    "    PRIMARY KEY (id) NOT ENFORCED\n",
    ") WITH (\n",
    "  'connector' = 'upsert-kafka',\n",
    "  'topic' = 'employee-salary',\n",
    "  'properties.bootstrap.servers' = 'broker:9092',\n",
    "  'key.format' = 'json',\n",
    "  'value.format' = 'json'\n",
    ")\n",
    "\"\"\"\n",
    "t_env.execute_sql(sink_ddl)"
   ]
  },
  {
   "cell_type": "code",
   "execution_count": 22,
   "id": "a7be99be",
   "metadata": {},
   "outputs": [],
   "source": [
    "sql_join = \"\"\"\n",
    "SELECT e.id, e.name, e.last_comment, sentiment_classifier(e.last_comment) as sentiment, \n",
    "CAST(s.salary AS DOUBLE) as salary, e.last_update, e.time_created\n",
    "FROM kafka_salary s, my_catalog.postgres.employee e\n",
    "WHERE s.id = e.id\n",
    "\"\"\"\n",
    "tab_join = t_env.sql_query(sql_join)"
   ]
  },
  {
   "cell_type": "code",
   "execution_count": 23,
   "id": "7143be60",
   "metadata": {},
   "outputs": [
    {
     "name": "stdout",
     "output_type": "stream",
     "text": [
      "(\n",
      "  `id` INT NOT NULL,\n",
      "  `name` STRING,\n",
      "  `last_comment` STRING,\n",
      "  `sentiment` STRING,\n",
      "  `salary` DOUBLE,\n",
      "  `last_update` TIMESTAMP(6),\n",
      "  `time_created` TIMESTAMP(6)\n",
      ")\n"
     ]
    }
   ],
   "source": [
    "tab_join.print_schema()"
   ]
  },
  {
   "cell_type": "code",
   "execution_count": 25,
   "id": "01b128a2",
   "metadata": {},
   "outputs": [],
   "source": [
    "# insert = tab_join.execute_insert('employee_salary').print()"
   ]
  },
  {
   "cell_type": "code",
   "execution_count": 27,
   "id": "bb518302",
   "metadata": {},
   "outputs": [],
   "source": [
    "# !pip3 install confluent-kafka"
   ]
  },
  {
   "cell_type": "code",
   "execution_count": 28,
   "id": "78fea3b8",
   "metadata": {},
   "outputs": [],
   "source": [
    "from confluent_kafka import Consumer"
   ]
  },
  {
   "cell_type": "code",
   "execution_count": 29,
   "id": "eba3016c",
   "metadata": {},
   "outputs": [],
   "source": [
    "conf = {'bootstrap.servers': 'broker:9092', 'group.id': 'test', 'session.timeout.ms': 6000,\n",
    "            'auto.offset.reset': 'earliest'}\n",
    "c = Consumer(conf)\n",
    "c.subscribe(['employee-salary'])"
   ]
  },
  {
   "cell_type": "code",
   "execution_count": 31,
   "id": "3ae630c6",
   "metadata": {},
   "outputs": [
    {
     "data": {
      "text/plain": [
       "<cimpl.Message at 0x7f5ffd7239c0>"
      ]
     },
     "execution_count": 31,
     "metadata": {},
     "output_type": "execute_result"
    }
   ],
   "source": [
    "message = c.poll(0)\n",
    "message"
   ]
  },
  {
   "cell_type": "code",
   "execution_count": 32,
   "id": "0addf10b",
   "metadata": {},
   "outputs": [
    {
     "data": {
      "text/plain": [
       "b'{\"id\":1,\"name\":\"husein\",\"last_comment\":\"haram jadah betui\",\"sentiment\":\"Negative\",\"SALARY\":1000.0,\"last_update\":\"2022-03-04 05:01:44.181104\",\"time_created\":\"2022-03-04 05:01:44.181104\"}'"
      ]
     },
     "execution_count": 32,
     "metadata": {},
     "output_type": "execute_result"
    }
   ],
   "source": [
    "message.value()"
   ]
  }
 ],
 "metadata": {
  "kernelspec": {
   "display_name": "Python 3 (ipykernel)",
   "language": "python",
   "name": "python3"
  },
  "language_info": {
   "codemirror_mode": {
    "name": "ipython",
    "version": 3
   },
   "file_extension": ".py",
   "mimetype": "text/x-python",
   "name": "python",
   "nbconvert_exporter": "python",
   "pygments_lexer": "ipython3",
   "version": "3.8.10"
  }
 },
 "nbformat": 4,
 "nbformat_minor": 5
}
