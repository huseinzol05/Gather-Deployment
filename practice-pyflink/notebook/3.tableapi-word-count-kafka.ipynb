{
 "cells": [
  {
   "cell_type": "code",
   "execution_count": 1,
   "id": "3a4cc567",
   "metadata": {},
   "outputs": [],
   "source": [
    "# !ls $FLINK_HOME/lib"
   ]
  },
  {
   "cell_type": "code",
   "execution_count": 2,
   "id": "a1c651e7",
   "metadata": {},
   "outputs": [],
   "source": [
    "from pyflink.table import DataTypes, TableEnvironment, EnvironmentSettings\n",
    "from pyflink.table.expressions import lit"
   ]
  },
  {
   "cell_type": "code",
   "execution_count": 3,
   "id": "6eb92313",
   "metadata": {},
   "outputs": [],
   "source": [
    "settings = EnvironmentSettings.new_instance().in_batch_mode().use_blink_planner().build()\n",
    "t_env = TableEnvironment.create(settings)"
   ]
  },
  {
   "cell_type": "code",
   "execution_count": 4,
   "id": "3de98243",
   "metadata": {},
   "outputs": [],
   "source": [
    "content = \"line Licensed to the Apache Software Foundation ASF under one \" \\\n",
    "              \"line or more contributor license agreements See the NOTICE file \" \\\n",
    "              \"line distributed with this work for additional information \" \\\n",
    "              \"line regarding copyright ownership The ASF licenses this file \" \\\n",
    "              \"to you under the Apache License Version the \" \\\n",
    "              \"License you may not use this file except in compliance \" \\\n",
    "              \"with the License\"\n",
    "\n",
    "with open('test.txt', 'w') as fopen:\n",
    "    fopen.write('\\n'.join(content.split()))"
   ]
  },
  {
   "cell_type": "code",
   "execution_count": 5,
   "id": "13987376",
   "metadata": {},
   "outputs": [
    {
     "data": {
      "text/plain": [
       "<pyflink.table.table_result.TableResult at 0x7f71fda849d0>"
      ]
     },
     "execution_count": 5,
     "metadata": {},
     "output_type": "execute_result"
    }
   ],
   "source": [
    "my_source_ddl = \"\"\"\n",
    "    create table mySource (\n",
    "        word VARCHAR\n",
    "    ) with (\n",
    "        'connector' = 'filesystem',\n",
    "        'format' = 'csv',\n",
    "        'path' = 'test.txt'\n",
    "    )\n",
    "\"\"\"\n",
    "\n",
    "my_sink_ddl = f\"\"\"\n",
    "    create table mySink (\n",
    "        word VARCHAR,\n",
    "        `count` BIGINT\n",
    "    ) with (\n",
    "        'connector' = 'kafka',\n",
    "        'topic' = 'mysink',\n",
    "        'properties.bootstrap.servers' = 'broker:9092',\n",
    "        'properties.group.id' = 'testGroup',\n",
    "        'scan.startup.mode' = 'earliest-offset',\n",
    "        'format' = 'json'\n",
    "    )\n",
    "\"\"\"\n",
    "\n",
    "t_env.execute_sql(my_source_ddl)\n",
    "t_env.execute_sql(my_sink_ddl)"
   ]
  },
  {
   "cell_type": "code",
   "execution_count": 6,
   "id": "9afbc246",
   "metadata": {},
   "outputs": [
    {
     "data": {
      "text/plain": [
       "<pyflink.table.table.Table at 0x7f71f8ecd460>"
      ]
     },
     "execution_count": 6,
     "metadata": {},
     "output_type": "execute_result"
    }
   ],
   "source": [
    "tab = t_env.from_path('mySource')\n",
    "tab"
   ]
  },
  {
   "cell_type": "code",
   "execution_count": 7,
   "id": "5be6481f",
   "metadata": {},
   "outputs": [
    {
     "data": {
      "text/html": [
       "<div>\n",
       "<style scoped>\n",
       "    .dataframe tbody tr th:only-of-type {\n",
       "        vertical-align: middle;\n",
       "    }\n",
       "\n",
       "    .dataframe tbody tr th {\n",
       "        vertical-align: top;\n",
       "    }\n",
       "\n",
       "    .dataframe thead th {\n",
       "        text-align: right;\n",
       "    }\n",
       "</style>\n",
       "<table border=\"1\" class=\"dataframe\">\n",
       "  <thead>\n",
       "    <tr style=\"text-align: right;\">\n",
       "      <th></th>\n",
       "      <th>word</th>\n",
       "    </tr>\n",
       "  </thead>\n",
       "  <tbody>\n",
       "    <tr>\n",
       "      <th>0</th>\n",
       "      <td>line</td>\n",
       "    </tr>\n",
       "    <tr>\n",
       "      <th>1</th>\n",
       "      <td>regarding</td>\n",
       "    </tr>\n",
       "    <tr>\n",
       "      <th>2</th>\n",
       "      <td>copyright</td>\n",
       "    </tr>\n",
       "    <tr>\n",
       "      <th>3</th>\n",
       "      <td>ownership</td>\n",
       "    </tr>\n",
       "    <tr>\n",
       "      <th>4</th>\n",
       "      <td>The</td>\n",
       "    </tr>\n",
       "  </tbody>\n",
       "</table>\n",
       "</div>"
      ],
      "text/plain": [
       "        word\n",
       "0       line\n",
       "1  regarding\n",
       "2  copyright\n",
       "3  ownership\n",
       "4        The"
      ]
     },
     "execution_count": 7,
     "metadata": {},
     "output_type": "execute_result"
    }
   ],
   "source": [
    "tab.to_pandas().head()"
   ]
  },
  {
   "cell_type": "code",
   "execution_count": 8,
   "id": "8c82e408",
   "metadata": {},
   "outputs": [],
   "source": [
    "tab.group_by(tab.word) \\\n",
    "   .select(tab.word, lit(1).count) \\\n",
    "   .execute_insert('mySink').wait()"
   ]
  },
  {
   "cell_type": "code",
   "execution_count": 11,
   "id": "15dcdd39",
   "metadata": {},
   "outputs": [],
   "source": [
    "# !pip3 install confluent-kafka"
   ]
  },
  {
   "cell_type": "code",
   "execution_count": 12,
   "id": "3c844a9d",
   "metadata": {},
   "outputs": [],
   "source": [
    "from confluent_kafka import Consumer"
   ]
  },
  {
   "cell_type": "code",
   "execution_count": 13,
   "id": "9a4e6fdd",
   "metadata": {},
   "outputs": [],
   "source": [
    "conf = {'bootstrap.servers': 'broker:9092', 'group.id': 'test', 'session.timeout.ms': 6000,\n",
    "            'auto.offset.reset': 'earliest'}\n",
    "c = Consumer(conf)\n",
    "c.subscribe(['mysink'])"
   ]
  },
  {
   "cell_type": "code",
   "execution_count": 15,
   "id": "290b33aa",
   "metadata": {},
   "outputs": [
    {
     "data": {
      "text/plain": [
       "<cimpl.Message at 0x7f71b87e8740>"
      ]
     },
     "execution_count": 15,
     "metadata": {},
     "output_type": "execute_result"
    }
   ],
   "source": [
    "message = c.poll(0)\n",
    "message"
   ]
  },
  {
   "cell_type": "code",
   "execution_count": 16,
   "id": "e93b386b",
   "metadata": {},
   "outputs": [
    {
     "data": {
      "text/plain": [
       "b'{\"word\":\"regarding\",\"count\":1}'"
      ]
     },
     "execution_count": 16,
     "metadata": {},
     "output_type": "execute_result"
    }
   ],
   "source": [
    "message.value()"
   ]
  },
  {
   "cell_type": "code",
   "execution_count": null,
   "id": "9070bd18",
   "metadata": {},
   "outputs": [],
   "source": []
  }
 ],
 "metadata": {
  "kernelspec": {
   "display_name": "Python 3 (ipykernel)",
   "language": "python",
   "name": "python3"
  },
  "language_info": {
   "codemirror_mode": {
    "name": "ipython",
    "version": 3
   },
   "file_extension": ".py",
   "mimetype": "text/x-python",
   "name": "python",
   "nbconvert_exporter": "python",
   "pygments_lexer": "ipython3",
   "version": "3.8.10"
  }
 },
 "nbformat": 4,
 "nbformat_minor": 5
}
