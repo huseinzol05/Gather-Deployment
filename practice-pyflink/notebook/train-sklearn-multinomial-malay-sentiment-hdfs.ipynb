{
 "cells": [
  {
   "cell_type": "code",
   "execution_count": 2,
   "id": "d645a14c",
   "metadata": {},
   "outputs": [],
   "source": [
    "# !pip3 install sklearn tqdm\n",
    "# !wget https://f000.backblazeb2.com/file/malay-dataset/sentiment/semisupervised/semisupervised-bert-xlnet.csv"
   ]
  },
  {
   "cell_type": "code",
   "execution_count": 3,
   "id": "b99af124",
   "metadata": {},
   "outputs": [
    {
     "data": {
      "text/html": [
       "<div>\n",
       "<style scoped>\n",
       "    .dataframe tbody tr th:only-of-type {\n",
       "        vertical-align: middle;\n",
       "    }\n",
       "\n",
       "    .dataframe tbody tr th {\n",
       "        vertical-align: top;\n",
       "    }\n",
       "\n",
       "    .dataframe thead th {\n",
       "        text-align: right;\n",
       "    }\n",
       "</style>\n",
       "<table border=\"1\" class=\"dataframe\">\n",
       "  <thead>\n",
       "    <tr style=\"text-align: right;\">\n",
       "      <th></th>\n",
       "      <th>text</th>\n",
       "      <th>label</th>\n",
       "      <th>prob</th>\n",
       "    </tr>\n",
       "  </thead>\n",
       "  <tbody>\n",
       "    <tr>\n",
       "      <th>0</th>\n",
       "      <td>@LionelModric10 Sabah sabah yorma donkey</td>\n",
       "      <td>Neutral</td>\n",
       "      <td>0.999414</td>\n",
       "    </tr>\n",
       "    <tr>\n",
       "      <th>1</th>\n",
       "      <td>Continue to reach out . . SEKUT in aja laah Na...</td>\n",
       "      <td>Neutral</td>\n",
       "      <td>0.994295</td>\n",
       "    </tr>\n",
       "    <tr>\n",
       "      <th>2</th>\n",
       "      <td>ada suprise untuk #danishnaufal_14 tq pada pem...</td>\n",
       "      <td>Positive</td>\n",
       "      <td>0.999538</td>\n",
       "    </tr>\n",
       "    <tr>\n",
       "      <th>3</th>\n",
       "      <td>aku kerja keras gila jimat jimat nak beli apa ...</td>\n",
       "      <td>Positive</td>\n",
       "      <td>0.999405</td>\n",
       "    </tr>\n",
       "    <tr>\n",
       "      <th>4</th>\n",
       "      <td>@farhanalv ajak makan ah ke penang bistro wkwkw</td>\n",
       "      <td>Neutral</td>\n",
       "      <td>0.999462</td>\n",
       "    </tr>\n",
       "  </tbody>\n",
       "</table>\n",
       "</div>"
      ],
      "text/plain": [
       "                                                text     label      prob\n",
       "0           @LionelModric10 Sabah sabah yorma donkey   Neutral  0.999414\n",
       "1  Continue to reach out . . SEKUT in aja laah Na...   Neutral  0.994295\n",
       "2  ada suprise untuk #danishnaufal_14 tq pada pem...  Positive  0.999538\n",
       "3  aku kerja keras gila jimat jimat nak beli apa ...  Positive  0.999405\n",
       "4    @farhanalv ajak makan ah ke penang bistro wkwkw   Neutral  0.999462"
      ]
     },
     "execution_count": 3,
     "metadata": {},
     "output_type": "execute_result"
    }
   ],
   "source": [
    "import pandas as pd\n",
    "\n",
    "df = pd.read_csv('semisupervised-bert-xlnet.csv')\n",
    "df.head()"
   ]
  },
  {
   "cell_type": "code",
   "execution_count": 4,
   "id": "3c2dd66c",
   "metadata": {},
   "outputs": [],
   "source": [
    "import re\n",
    "\n",
    "def cleaning(string):\n",
    "    string = ' '.join([w for w in string.split() if w.find('@') < 0])\n",
    "    string = re.sub('\\(dot\\)', '.', string)\n",
    "    string = (\n",
    "        re.sub(re.findall(r'\\<a(.*?)\\>', string)[0], '', string)\n",
    "        if (len(re.findall(r'\\<a (.*?)\\>', string)) > 0)\n",
    "        and ('href' in re.findall(r'\\<a (.*?)\\>', string)[0])\n",
    "        else string\n",
    "    )\n",
    "    string = re.sub(\n",
    "        r'\\w+:\\/{2}[\\d\\w-]+(\\.[\\d\\w-]+)*(?:(?:\\/[^\\s/]*))*', ' ', string\n",
    "    )\n",
    "    string = re.sub('[^A-Za-z0-9 ]+', ' ', string)\n",
    "    string = re.sub(r'[ ]+', ' ', string).strip()\n",
    "    return string.lower()"
   ]
  },
  {
   "cell_type": "code",
   "execution_count": 5,
   "id": "3edeb927",
   "metadata": {},
   "outputs": [
    {
     "name": "stderr",
     "output_type": "stream",
     "text": [
      "100%|████████████████████████████████| 185787/185787 [00:10<00:00, 17403.03it/s]\n"
     ]
    }
   ],
   "source": [
    "from tqdm import tqdm\n",
    "\n",
    "texts, labels = [], []\n",
    "for i in tqdm(range(len(df))):\n",
    "    t = cleaning(df['text'].iloc[i])\n",
    "    if len(t):\n",
    "        texts.append(t)\n",
    "        labels.append(df['label'].iloc[i])"
   ]
  },
  {
   "cell_type": "code",
   "execution_count": 6,
   "id": "994d8800",
   "metadata": {},
   "outputs": [],
   "source": [
    "from sklearn.naive_bayes import ComplementNB\n",
    "from sklearn.pipeline import Pipeline\n",
    "from sklearn.feature_extraction.text import TfidfVectorizer"
   ]
  },
  {
   "cell_type": "code",
   "execution_count": 7,
   "id": "a32d5cc0",
   "metadata": {},
   "outputs": [
    {
     "data": {
      "text/plain": [
       "Pipeline(steps=[('tfidf_vectorizer', TfidfVectorizer(stop_words='english')),\n",
       "                ('nb', ComplementNB())])"
      ]
     },
     "execution_count": 7,
     "metadata": {},
     "output_type": "execute_result"
    }
   ],
   "source": [
    "model = Pipeline([\n",
    "    (\"tfidf_vectorizer\", TfidfVectorizer(stop_words=\"english\")),\n",
    "    (\"nb\", ComplementNB())\n",
    "])\n",
    "model.fit(texts, labels)"
   ]
  },
  {
   "cell_type": "code",
   "execution_count": 8,
   "id": "faa71e96",
   "metadata": {},
   "outputs": [
    {
     "data": {
      "text/plain": [
       "array([[0.18927582, 0.61000556, 0.20071862],\n",
       "       [0.04540901, 0.82776806, 0.12682293],\n",
       "       [0.02807277, 0.02461707, 0.94731016],\n",
       "       [0.35064422, 0.14682629, 0.50252949],\n",
       "       [0.15815617, 0.70677826, 0.13506558],\n",
       "       [0.25874791, 0.09318693, 0.64806516],\n",
       "       [0.00867239, 0.96742275, 0.02390486],\n",
       "       [0.6439133 , 0.19348827, 0.16259843],\n",
       "       [0.24624322, 0.25934145, 0.49441533],\n",
       "       [0.09975433, 0.77750769, 0.12273798]])"
      ]
     },
     "execution_count": 8,
     "metadata": {},
     "output_type": "execute_result"
    }
   ],
   "source": [
    "model.predict_proba(texts[:10])"
   ]
  },
  {
   "cell_type": "code",
   "execution_count": 9,
   "id": "009e1917",
   "metadata": {},
   "outputs": [],
   "source": [
    "import pickle\n",
    "\n",
    "filename = 'tfidf-nb-malay-sentiment.pkl'\n",
    "with open(filename, 'wb') as fopen:\n",
    "    pickle.dump(model, fopen)"
   ]
  },
  {
   "cell_type": "code",
   "execution_count": 16,
   "id": "f780cc0e",
   "metadata": {},
   "outputs": [
    {
     "name": "stderr",
     "output_type": "stream",
     "text": [
      "2022-03-03 13:55:23,127 WARN util.NativeCodeLoader: Unable to load native-hadoop library for your platform... using builtin-java classes where applicable\n"
     ]
    }
   ],
   "source": [
    "import pydoop.hdfs\n",
    "import os\n",
    "\n",
    "hdfs = pydoop.hdfs.hdfs(host = 'hdfs', port = 9000)"
   ]
  },
  {
   "cell_type": "code",
   "execution_count": 17,
   "id": "5b593e9c",
   "metadata": {},
   "outputs": [],
   "source": [
    "with hdfs.open_file(os.path.join('/user', filename), 'wb') as fopen:\n",
    "    with open(filename, 'rb') as fopen_pickle:\n",
    "        fopen.write(fopen_pickle.read())"
   ]
  },
  {
   "cell_type": "code",
   "execution_count": 18,
   "id": "10efd7ea",
   "metadata": {},
   "outputs": [],
   "source": [
    "with hdfs.open_file(os.path.join('/user', filename), 'rb') as fopen:\n",
    "    model_from_hdfs = pickle.loads(fopen.read())"
   ]
  },
  {
   "cell_type": "code",
   "execution_count": 23,
   "id": "ef8c8bcb",
   "metadata": {},
   "outputs": [
    {
     "data": {
      "text/plain": [
       "'Neutral'"
      ]
     },
     "execution_count": 23,
     "metadata": {},
     "output_type": "execute_result"
    }
   ],
   "source": [
    "str(model_from_hdfs.predict(['helo'])[0])"
   ]
  },
  {
   "cell_type": "code",
   "execution_count": null,
   "id": "8c17ca7c",
   "metadata": {},
   "outputs": [],
   "source": []
  }
 ],
 "metadata": {
  "kernelspec": {
   "display_name": "Python 3 (ipykernel)",
   "language": "python",
   "name": "python3"
  },
  "language_info": {
   "codemirror_mode": {
    "name": "ipython",
    "version": 3
   },
   "file_extension": ".py",
   "mimetype": "text/x-python",
   "name": "python",
   "nbconvert_exporter": "python",
   "pygments_lexer": "ipython3",
   "version": "3.8.10"
  }
 },
 "nbformat": 4,
 "nbformat_minor": 5
}
