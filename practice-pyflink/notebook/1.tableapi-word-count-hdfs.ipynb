{
 "cells": [
  {
   "cell_type": "code",
   "execution_count": 1,
   "id": "3a4cc567",
   "metadata": {},
   "outputs": [],
   "source": [
    "# !ls $FLINK_HOME/lib"
   ]
  },
  {
   "cell_type": "code",
   "execution_count": 2,
   "id": "a1c651e7",
   "metadata": {},
   "outputs": [],
   "source": [
    "from pyflink.table import DataTypes, TableEnvironment, EnvironmentSettings\n",
    "from pyflink.table.expressions import lit"
   ]
  },
  {
   "cell_type": "code",
   "execution_count": 3,
   "id": "6eb92313",
   "metadata": {},
   "outputs": [],
   "source": [
    "settings = EnvironmentSettings.new_instance().in_batch_mode().use_blink_planner().build()\n",
    "t_env = TableEnvironment.create(settings)"
   ]
  },
  {
   "cell_type": "code",
   "execution_count": 4,
   "id": "3de98243",
   "metadata": {},
   "outputs": [],
   "source": [
    "content = \"line Licensed to the Apache Software Foundation ASF under one \" \\\n",
    "              \"line or more contributor license agreements See the NOTICE file \" \\\n",
    "              \"line distributed with this work for additional information \" \\\n",
    "              \"line regarding copyright ownership The ASF licenses this file \" \\\n",
    "              \"to you under the Apache License Version the \" \\\n",
    "              \"License you may not use this file except in compliance \" \\\n",
    "              \"with the License\"\n",
    "\n",
    "with open('test.txt', 'w') as fopen:\n",
    "    fopen.write('\\n'.join(content.split()))"
   ]
  },
  {
   "cell_type": "code",
   "execution_count": 5,
   "id": "13987376",
   "metadata": {},
   "outputs": [
    {
     "data": {
      "text/plain": [
       "<pyflink.table.table_result.TableResult at 0x7f1d7013f0d0>"
      ]
     },
     "execution_count": 5,
     "metadata": {},
     "output_type": "execute_result"
    }
   ],
   "source": [
    "hdfs_path = 'hdfs://hdfs:9000/user/word_count'\n",
    "\n",
    "my_source_ddl = \"\"\"\n",
    "    create table mySource (\n",
    "        word VARCHAR\n",
    "    ) with (\n",
    "        'connector' = 'filesystem',\n",
    "        'format' = 'csv',\n",
    "        'path' = 'test.txt'\n",
    "    )\n",
    "\"\"\"\n",
    "\n",
    "my_sink_ddl = f\"\"\"\n",
    "    create table mySink (\n",
    "        word VARCHAR,\n",
    "        `count` BIGINT\n",
    "    ) with (\n",
    "        'connector' = 'filesystem',\n",
    "        'format' = 'parquet',\n",
    "        'path' = '{hdfs_path}'\n",
    "    )\n",
    "\"\"\"\n",
    "\n",
    "t_env.execute_sql(my_source_ddl)\n",
    "t_env.execute_sql(my_sink_ddl)"
   ]
  },
  {
   "cell_type": "code",
   "execution_count": 6,
   "id": "9afbc246",
   "metadata": {},
   "outputs": [
    {
     "data": {
      "text/plain": [
       "<pyflink.table.table.Table at 0x7f1d70133df0>"
      ]
     },
     "execution_count": 6,
     "metadata": {},
     "output_type": "execute_result"
    }
   ],
   "source": [
    "tab = t_env.from_path('mySource')\n",
    "tab"
   ]
  },
  {
   "cell_type": "code",
   "execution_count": null,
   "id": "5be6481f",
   "metadata": {},
   "outputs": [],
   "source": [
    "tab.to_pandas().head()"
   ]
  },
  {
   "cell_type": "code",
   "execution_count": null,
   "id": "8c82e408",
   "metadata": {},
   "outputs": [],
   "source": [
    "tab.group_by(tab.word) \\\n",
    "   .select(tab.word, lit(1).count) \\\n",
    "   .execute_insert('mySink', overwrite = True).wait()"
   ]
  },
  {
   "cell_type": "code",
   "execution_count": null,
   "id": "3391fc6b",
   "metadata": {},
   "outputs": [],
   "source": [
    "tab = t_env.from_path('mySink')\n",
    "tab.to_pandas()"
   ]
  }
 ],
 "metadata": {
  "kernelspec": {
   "display_name": "Python 3 (ipykernel)",
   "language": "python",
   "name": "python3"
  },
  "language_info": {
   "codemirror_mode": {
    "name": "ipython",
    "version": 3
   },
   "file_extension": ".py",
   "mimetype": "text/x-python",
   "name": "python",
   "nbconvert_exporter": "python",
   "pygments_lexer": "ipython3",
   "version": "3.8.10"
  }
 },
 "nbformat": 4,
 "nbformat_minor": 5
}
