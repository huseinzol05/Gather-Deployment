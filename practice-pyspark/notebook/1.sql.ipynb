{
 "cells": [
  {
   "cell_type": "code",
   "execution_count": 1,
   "id": "5fab6314",
   "metadata": {},
   "outputs": [],
   "source": [
    "import pyspark\n",
    "from pyspark import SQLContext"
   ]
  },
  {
   "cell_type": "code",
   "execution_count": 2,
   "id": "63c549d6",
   "metadata": {},
   "outputs": [
    {
     "name": "stderr",
     "output_type": "stream",
     "text": [
      "Using Spark's default log4j profile: org/apache/spark/log4j-defaults.properties\n",
      "Setting default log level to \"WARN\".\n",
      "To adjust logging level use sc.setLogLevel(newLevel). For SparkR, use setLogLevel(newLevel).\n",
      "21/12/19 15:09:50 WARN NativeCodeLoader: Unable to load native-hadoop library for your platform... using builtin-java classes where applicable\n"
     ]
    }
   ],
   "source": [
    "sc = pyspark.SparkContext(appName=\"sql\")"
   ]
  },
  {
   "cell_type": "code",
   "execution_count": 3,
   "id": "64153ed6",
   "metadata": {},
   "outputs": [
    {
     "name": "stderr",
     "output_type": "stream",
     "text": [
      "/opt/spark/python/lib/pyspark.zip/pyspark/sql/context.py:77: FutureWarning: Deprecated in 3.0.0. Use SparkSession.builder.getOrCreate() instead.\n"
     ]
    }
   ],
   "source": [
    "sqlcontext = SQLContext(sc)"
   ]
  },
  {
   "cell_type": "code",
   "execution_count": 4,
   "id": "23704a7c",
   "metadata": {},
   "outputs": [],
   "source": [
    "simpleData = [(\"James\", \"Sales\", 3000),\n",
    "    (\"Michael\", \"Sales\", 4600),\n",
    "    (\"Robert\", \"Sales\", 4100),\n",
    "    (\"Maria\", \"Finance\", 3000),\n",
    "    (\"James\", \"Sales\", 3000),\n",
    "    (\"Scott\", \"Finance\", 3300),\n",
    "    (\"Jen\", \"Finance\", 3900),\n",
    "    (\"Jeff\", \"Marketing\", 3000),\n",
    "    (\"Kumar\", \"Marketing\", 2000),\n",
    "    (\"Saif\", \"Sales\", 4100)\n",
    "  ]\n",
    "schema = ['employee_name', 'department', 'salary']\n",
    "\n",
    "df = sqlcontext.createDataFrame(data=simpleData, schema = schema)"
   ]
  },
  {
   "cell_type": "code",
   "execution_count": 5,
   "id": "bf1c8894",
   "metadata": {
    "scrolled": true
   },
   "outputs": [
    {
     "name": "stderr",
     "output_type": "stream",
     "text": [
      "                                                                                \r"
     ]
    },
    {
     "name": "stdout",
     "output_type": "stream",
     "text": [
      "+-------------+----------+------+\n",
      "|employee_name|department|salary|\n",
      "+-------------+----------+------+\n",
      "|        James|     Sales|  3000|\n",
      "|      Michael|     Sales|  4600|\n",
      "|       Robert|     Sales|  4100|\n",
      "|        Maria|   Finance|  3000|\n",
      "|        James|     Sales|  3000|\n",
      "|        Scott|   Finance|  3300|\n",
      "|          Jen|   Finance|  3900|\n",
      "|         Jeff| Marketing|  3000|\n",
      "|        Kumar| Marketing|  2000|\n",
      "|         Saif|     Sales|  4100|\n",
      "+-------------+----------+------+\n",
      "\n"
     ]
    }
   ],
   "source": [
    "df.show()"
   ]
  },
  {
   "cell_type": "code",
   "execution_count": 14,
   "id": "28ad36b1",
   "metadata": {},
   "outputs": [],
   "source": [
    "from pyspark.sql.functions import max"
   ]
  },
  {
   "cell_type": "code",
   "execution_count": 16,
   "id": "d7a8ce79",
   "metadata": {},
   "outputs": [
    {
     "data": {
      "text/plain": [
       "Column<'max(salary)'>"
      ]
     },
     "execution_count": 16,
     "metadata": {},
     "output_type": "execute_result"
    }
   ],
   "source": [
    "max('salary')"
   ]
  },
  {
   "cell_type": "code",
   "execution_count": 17,
   "id": "652fd1ef",
   "metadata": {},
   "outputs": [
    {
     "name": "stdout",
     "output_type": "stream",
     "text": [
      "+-----------+\n",
      "|max(salary)|\n",
      "+-----------+\n",
      "|       4600|\n",
      "+-----------+\n",
      "\n"
     ]
    }
   ],
   "source": [
    "df.select(max('salary')).show()"
   ]
  },
  {
   "cell_type": "code",
   "execution_count": 22,
   "id": "426bf33c",
   "metadata": {},
   "outputs": [
    {
     "name": "stdout",
     "output_type": "stream",
     "text": [
      "[NbConvertApp] Converting notebook 1.sql.ipynb to script\n",
      "[NbConvertApp] Writing 981 bytes to 1.sql.py\n"
     ]
    }
   ],
   "source": [
    "!jupyter nbconvert --to script 1.sql.ipynb"
   ]
  },
  {
   "cell_type": "code",
   "execution_count": 23,
   "id": "26e87d86",
   "metadata": {},
   "outputs": [
    {
     "name": "stdout",
     "output_type": "stream",
     "text": [
      "Using Spark's default log4j profile: org/apache/spark/log4j-defaults.properties\n",
      "21/12/19 15:27:22 INFO SparkContext: Running Spark version 3.2.0\n",
      "21/12/19 15:27:22 WARN NativeCodeLoader: Unable to load native-hadoop library for your platform... using builtin-java classes where applicable\n",
      "21/12/19 15:27:22 INFO ResourceUtils: ==============================================================\n",
      "21/12/19 15:27:22 INFO ResourceUtils: No custom resources configured for spark.driver.\n",
      "21/12/19 15:27:22 INFO ResourceUtils: ==============================================================\n",
      "21/12/19 15:27:22 INFO SparkContext: Submitted application: sql\n",
      "21/12/19 15:27:22 INFO ResourceProfile: Default ResourceProfile created, executor resources: Map(cores -> name: cores, amount: 1, script: , vendor: , memory -> name: memory, amount: 1024, script: , vendor: , offHeap -> name: offHeap, amount: 0, script: , vendor: ), task resources: Map(cpus -> name: cpus, amount: 1.0)\n",
      "21/12/19 15:27:22 INFO ResourceProfile: Limiting resource is cpu\n",
      "21/12/19 15:27:22 INFO ResourceProfileManager: Added ResourceProfile id: 0\n",
      "21/12/19 15:27:23 INFO SecurityManager: Changing view acls to: root\n",
      "21/12/19 15:27:23 INFO SecurityManager: Changing modify acls to: root\n",
      "21/12/19 15:27:23 INFO SecurityManager: Changing view acls groups to: \n",
      "21/12/19 15:27:23 INFO SecurityManager: Changing modify acls groups to: \n",
      "21/12/19 15:27:23 INFO SecurityManager: SecurityManager: authentication disabled; ui acls disabled; users  with view permissions: Set(root); groups with view permissions: Set(); users  with modify permissions: Set(root); groups with modify permissions: Set()\n",
      "21/12/19 15:27:23 INFO Utils: Successfully started service 'sparkDriver' on port 34959.\n",
      "21/12/19 15:27:23 INFO SparkEnv: Registering MapOutputTracker\n",
      "21/12/19 15:27:23 INFO SparkEnv: Registering BlockManagerMaster\n",
      "21/12/19 15:27:23 INFO BlockManagerMasterEndpoint: Using org.apache.spark.storage.DefaultTopologyMapper for getting topology information\n",
      "21/12/19 15:27:23 INFO BlockManagerMasterEndpoint: BlockManagerMasterEndpoint up\n",
      "21/12/19 15:27:23 INFO SparkEnv: Registering BlockManagerMasterHeartbeat\n",
      "21/12/19 15:27:23 INFO DiskBlockManager: Created local directory at /tmp/blockmgr-2d7af974-bc9b-451d-a66a-f84b925a0215\n",
      "21/12/19 15:27:23 INFO MemoryStore: MemoryStore started with capacity 366.3 MiB\n",
      "21/12/19 15:27:23 INFO SparkEnv: Registering OutputCommitCoordinator\n",
      "21/12/19 15:27:24 WARN Utils: Service 'SparkUI' could not bind on port 4040. Attempting port 4041.\n",
      "21/12/19 15:27:24 INFO Utils: Successfully started service 'SparkUI' on port 4041.\n",
      "21/12/19 15:27:24 INFO SparkUI: Bound SparkUI to 0.0.0.0, and started at http://e65d5b46bbe5:4041\n",
      "21/12/19 15:27:25 INFO StandaloneAppClient$ClientEndpoint: Connecting to master spark://172.20.0.3:7077...\n",
      "21/12/19 15:27:25 INFO TransportClientFactory: Successfully created connection to /172.20.0.3:7077 after 73 ms (0 ms spent in bootstraps)\n",
      "21/12/19 15:27:25 INFO StandaloneSchedulerBackend: Connected to Spark cluster with app ID app-20211219152725-0002\n",
      "21/12/19 15:27:25 INFO StandaloneAppClient$ClientEndpoint: Executor added: app-20211219152725-0002/0 on worker-20211219145026-172.20.0.4-46179 (172.20.0.4:46179) with 2 core(s)\n",
      "21/12/19 15:27:25 INFO Utils: Successfully started service 'org.apache.spark.network.netty.NettyBlockTransferService' on port 42525.\n",
      "21/12/19 15:27:25 INFO NettyBlockTransferService: Server created on e65d5b46bbe5:42525\n",
      "21/12/19 15:27:25 INFO BlockManager: Using org.apache.spark.storage.RandomBlockReplicationPolicy for block replication policy\n",
      "21/12/19 15:27:25 INFO StandaloneSchedulerBackend: Granted executor ID app-20211219152725-0002/0 on hostPort 172.20.0.4:46179 with 2 core(s), 1024.0 MiB RAM\n",
      "21/12/19 15:27:25 INFO BlockManagerMaster: Registering BlockManager BlockManagerId(driver, e65d5b46bbe5, 42525, None)\n",
      "21/12/19 15:27:25 INFO BlockManagerMasterEndpoint: Registering block manager e65d5b46bbe5:42525 with 366.3 MiB RAM, BlockManagerId(driver, e65d5b46bbe5, 42525, None)\n",
      "21/12/19 15:27:25 INFO BlockManagerMaster: Registered BlockManager BlockManagerId(driver, e65d5b46bbe5, 42525, None)\n",
      "21/12/19 15:27:25 INFO BlockManager: Initialized BlockManager: BlockManagerId(driver, e65d5b46bbe5, 42525, None)\n",
      "21/12/19 15:27:25 INFO StandaloneAppClient$ClientEndpoint: Executor updated: app-20211219152725-0002/0 is now RUNNING\n",
      "21/12/19 15:27:26 INFO StandaloneSchedulerBackend: SchedulerBackend is ready for scheduling beginning after reached minRegisteredResourcesRatio: 0.0\n",
      "/opt/spark/python/lib/pyspark.zip/pyspark/sql/context.py:77: FutureWarning: Deprecated in 3.0.0. Use SparkSession.builder.getOrCreate() instead.\n",
      "21/12/19 15:27:30 INFO SharedState: Setting hive.metastore.warehouse.dir ('null') to the value of spark.sql.warehouse.dir.\n",
      "21/12/19 15:27:30 INFO SharedState: Warehouse path is 'file:/home/data/spark-warehouse'.\n",
      "21/12/19 15:27:33 INFO CoarseGrainedSchedulerBackend$DriverEndpoint: Registered executor NettyRpcEndpointRef(spark-client://Executor) (172.20.0.4:44734) with ID 0,  ResourceProfileId 0\n",
      "21/12/19 15:27:33 INFO BlockManagerMasterEndpoint: Registering block manager 172.20.0.4:34199 with 366.3 MiB RAM, BlockManagerId(0, 172.20.0.4, 34199, None)\n",
      "21/12/19 15:27:38 INFO CodeGenerator: Code generated in 513.037715 ms\n",
      "21/12/19 15:27:38 INFO SparkContext: Starting job: showString at NativeMethodAccessorImpl.java:0\n",
      "21/12/19 15:27:38 INFO DAGScheduler: Got job 0 (showString at NativeMethodAccessorImpl.java:0) with 1 output partitions\n",
      "21/12/19 15:27:38 INFO DAGScheduler: Final stage: ResultStage 0 (showString at NativeMethodAccessorImpl.java:0)\n",
      "21/12/19 15:27:38 INFO DAGScheduler: Parents of final stage: List()\n",
      "21/12/19 15:27:38 INFO DAGScheduler: Missing parents: List()\n",
      "21/12/19 15:27:38 INFO DAGScheduler: Submitting ResultStage 0 (MapPartitionsRDD[6] at showString at NativeMethodAccessorImpl.java:0), which has no missing parents\n",
      "21/12/19 15:27:38 INFO MemoryStore: Block broadcast_0 stored as values in memory (estimated size 12.3 KiB, free 366.3 MiB)\n",
      "21/12/19 15:27:38 INFO MemoryStore: Block broadcast_0_piece0 stored as bytes in memory (estimated size 6.4 KiB, free 366.3 MiB)\n",
      "21/12/19 15:27:38 INFO BlockManagerInfo: Added broadcast_0_piece0 in memory on e65d5b46bbe5:42525 (size: 6.4 KiB, free: 366.3 MiB)\n",
      "21/12/19 15:27:38 INFO SparkContext: Created broadcast 0 from broadcast at DAGScheduler.scala:1427\n",
      "21/12/19 15:27:38 INFO DAGScheduler: Submitting 1 missing tasks from ResultStage 0 (MapPartitionsRDD[6] at showString at NativeMethodAccessorImpl.java:0) (first 15 tasks are for partitions Vector(0))\n",
      "21/12/19 15:27:38 INFO TaskSchedulerImpl: Adding task set 0.0 with 1 tasks resource profile 0\n",
      "21/12/19 15:27:38 INFO TaskSetManager: Starting task 0.0 in stage 0.0 (TID 0) (172.20.0.4, executor 0, partition 0, PROCESS_LOCAL, 4542 bytes) taskResourceAssignments Map()\n",
      "21/12/19 15:27:39 INFO BlockManagerInfo: Added broadcast_0_piece0 in memory on 172.20.0.4:34199 (size: 6.4 KiB, free: 366.3 MiB)\n",
      "21/12/19 15:27:41 INFO TaskSetManager: Finished task 0.0 in stage 0.0 (TID 0) in 3111 ms on 172.20.0.4 (executor 0) (1/1)\n",
      "21/12/19 15:27:41 INFO TaskSchedulerImpl: Removed TaskSet 0.0, whose tasks have all completed, from pool \n",
      "21/12/19 15:27:41 INFO PythonAccumulatorV2: Connected to AccumulatorServer at host: 127.0.0.1 port: 58981\n",
      "21/12/19 15:27:41 INFO DAGScheduler: ResultStage 0 (showString at NativeMethodAccessorImpl.java:0) finished in 3.445 s\n",
      "21/12/19 15:27:41 INFO DAGScheduler: Job 0 is finished. Cancelling potential speculative or zombie tasks for this job\n",
      "21/12/19 15:27:41 INFO TaskSchedulerImpl: Killing all running tasks in stage 0: Stage finished\n",
      "21/12/19 15:27:41 INFO DAGScheduler: Job 0 finished: showString at NativeMethodAccessorImpl.java:0, took 3.532196 s\n",
      "21/12/19 15:27:41 INFO SparkContext: Starting job: showString at NativeMethodAccessorImpl.java:0\n",
      "21/12/19 15:27:41 INFO DAGScheduler: Got job 1 (showString at NativeMethodAccessorImpl.java:0) with 1 output partitions\n",
      "21/12/19 15:27:41 INFO DAGScheduler: Final stage: ResultStage 1 (showString at NativeMethodAccessorImpl.java:0)\n",
      "21/12/19 15:27:41 INFO DAGScheduler: Parents of final stage: List()\n",
      "21/12/19 15:27:41 INFO DAGScheduler: Missing parents: List()\n",
      "21/12/19 15:27:41 INFO DAGScheduler: Submitting ResultStage 1 (MapPartitionsRDD[6] at showString at NativeMethodAccessorImpl.java:0), which has no missing parents\n"
     ]
    },
    {
     "name": "stdout",
     "output_type": "stream",
     "text": [
      "21/12/19 15:27:42 INFO MemoryStore: Block broadcast_1 stored as values in memory (estimated size 12.3 KiB, free 366.3 MiB)\n",
      "21/12/19 15:27:42 INFO MemoryStore: Block broadcast_1_piece0 stored as bytes in memory (estimated size 6.5 KiB, free 366.3 MiB)\n",
      "21/12/19 15:27:42 INFO BlockManagerInfo: Added broadcast_1_piece0 in memory on e65d5b46bbe5:42525 (size: 6.5 KiB, free: 366.3 MiB)\n",
      "21/12/19 15:27:42 INFO SparkContext: Created broadcast 1 from broadcast at DAGScheduler.scala:1427\n",
      "21/12/19 15:27:42 INFO DAGScheduler: Submitting 1 missing tasks from ResultStage 1 (MapPartitionsRDD[6] at showString at NativeMethodAccessorImpl.java:0) (first 15 tasks are for partitions Vector(1))\n",
      "21/12/19 15:27:42 INFO TaskSchedulerImpl: Adding task set 1.0 with 1 tasks resource profile 0\n",
      "21/12/19 15:27:42 INFO TaskSetManager: Starting task 0.0 in stage 1.0 (TID 1) (172.20.0.4, executor 0, partition 1, PROCESS_LOCAL, 4558 bytes) taskResourceAssignments Map()\n",
      "21/12/19 15:27:42 INFO BlockManagerInfo: Added broadcast_1_piece0 in memory on 172.20.0.4:34199 (size: 6.5 KiB, free: 366.3 MiB)\n",
      "21/12/19 15:27:42 INFO TaskSetManager: Finished task 0.0 in stage 1.0 (TID 1) in 134 ms on 172.20.0.4 (executor 0) (1/1)\n",
      "21/12/19 15:27:42 INFO DAGScheduler: ResultStage 1 (showString at NativeMethodAccessorImpl.java:0) finished in 0.181 s\n",
      "21/12/19 15:27:42 INFO DAGScheduler: Job 1 is finished. Cancelling potential speculative or zombie tasks for this job\n",
      "21/12/19 15:27:42 INFO TaskSchedulerImpl: Removed TaskSet 1.0, whose tasks have all completed, from pool \n",
      "21/12/19 15:27:42 INFO TaskSchedulerImpl: Killing all running tasks in stage 1: Stage finished\n",
      "21/12/19 15:27:42 INFO DAGScheduler: Job 1 finished: showString at NativeMethodAccessorImpl.java:0, took 0.200082 s\n",
      "21/12/19 15:27:42 INFO CodeGenerator: Code generated in 73.235098 ms\n",
      "+-------------+----------+------+\n",
      "|employee_name|department|salary|\n",
      "+-------------+----------+------+\n",
      "|        James|     Sales|  3000|\n",
      "|      Michael|     Sales|  4600|\n",
      "|       Robert|     Sales|  4100|\n",
      "|        Maria|   Finance|  3000|\n",
      "|        James|     Sales|  3000|\n",
      "|        Scott|   Finance|  3300|\n",
      "|          Jen|   Finance|  3900|\n",
      "|         Jeff| Marketing|  3000|\n",
      "|        Kumar| Marketing|  2000|\n",
      "|         Saif|     Sales|  4100|\n",
      "+-------------+----------+------+\n",
      "\n",
      "21/12/19 15:27:42 INFO CodeGenerator: Code generated in 39.068391 ms\n",
      "21/12/19 15:27:42 INFO DAGScheduler: Registering RDD 8 (showString at NativeMethodAccessorImpl.java:0) as input to shuffle 0\n",
      "21/12/19 15:27:42 INFO DAGScheduler: Got map stage job 2 (showString at NativeMethodAccessorImpl.java:0) with 2 output partitions\n",
      "21/12/19 15:27:42 INFO DAGScheduler: Final stage: ShuffleMapStage 2 (showString at NativeMethodAccessorImpl.java:0)\n",
      "21/12/19 15:27:42 INFO DAGScheduler: Parents of final stage: List()\n",
      "21/12/19 15:27:42 INFO DAGScheduler: Missing parents: List()\n",
      "21/12/19 15:27:42 INFO DAGScheduler: Submitting ShuffleMapStage 2 (MapPartitionsRDD[8] at showString at NativeMethodAccessorImpl.java:0), which has no missing parents\n",
      "21/12/19 15:27:43 INFO MemoryStore: Block broadcast_2 stored as values in memory (estimated size 15.9 KiB, free 366.2 MiB)\n",
      "21/12/19 15:27:43 INFO MemoryStore: Block broadcast_2_piece0 stored as bytes in memory (estimated size 8.2 KiB, free 366.2 MiB)\n",
      "21/12/19 15:27:43 INFO BlockManagerInfo: Added broadcast_2_piece0 in memory on e65d5b46bbe5:42525 (size: 8.2 KiB, free: 366.3 MiB)\n",
      "21/12/19 15:27:43 INFO SparkContext: Created broadcast 2 from broadcast at DAGScheduler.scala:1427\n",
      "21/12/19 15:27:43 INFO DAGScheduler: Submitting 2 missing tasks from ShuffleMapStage 2 (MapPartitionsRDD[8] at showString at NativeMethodAccessorImpl.java:0) (first 15 tasks are for partitions Vector(0, 1))\n",
      "21/12/19 15:27:43 INFO TaskSchedulerImpl: Adding task set 2.0 with 2 tasks resource profile 0\n",
      "21/12/19 15:27:43 INFO TaskSetManager: Starting task 0.0 in stage 2.0 (TID 2) (172.20.0.4, executor 0, partition 0, PROCESS_LOCAL, 4531 bytes) taskResourceAssignments Map()\n",
      "21/12/19 15:27:43 INFO TaskSetManager: Starting task 1.0 in stage 2.0 (TID 3) (172.20.0.4, executor 0, partition 1, PROCESS_LOCAL, 4547 bytes) taskResourceAssignments Map()\n",
      "21/12/19 15:27:43 INFO BlockManagerInfo: Added broadcast_2_piece0 in memory on 172.20.0.4:34199 (size: 8.2 KiB, free: 366.3 MiB)\n",
      "21/12/19 15:27:43 INFO TaskSetManager: Finished task 1.0 in stage 2.0 (TID 3) in 453 ms on 172.20.0.4 (executor 0) (1/2)\n",
      "21/12/19 15:27:43 INFO TaskSetManager: Finished task 0.0 in stage 2.0 (TID 2) in 464 ms on 172.20.0.4 (executor 0) (2/2)\n",
      "21/12/19 15:27:43 INFO DAGScheduler: ShuffleMapStage 2 (showString at NativeMethodAccessorImpl.java:0) finished in 0.515 s\n",
      "21/12/19 15:27:43 INFO DAGScheduler: looking for newly runnable stages\n",
      "21/12/19 15:27:43 INFO DAGScheduler: running: Set()\n",
      "21/12/19 15:27:43 INFO DAGScheduler: waiting: Set()\n",
      "21/12/19 15:27:43 INFO TaskSchedulerImpl: Removed TaskSet 2.0, whose tasks have all completed, from pool \n",
      "21/12/19 15:27:43 INFO DAGScheduler: failed: Set()\n",
      "21/12/19 15:27:43 INFO CodeGenerator: Code generated in 48.59812 ms\n",
      "21/12/19 15:27:43 INFO SparkContext: Starting job: showString at NativeMethodAccessorImpl.java:0\n",
      "21/12/19 15:27:43 INFO DAGScheduler: Got job 3 (showString at NativeMethodAccessorImpl.java:0) with 1 output partitions\n",
      "21/12/19 15:27:43 INFO DAGScheduler: Final stage: ResultStage 4 (showString at NativeMethodAccessorImpl.java:0)\n",
      "21/12/19 15:27:43 INFO DAGScheduler: Parents of final stage: List(ShuffleMapStage 3)\n",
      "21/12/19 15:27:43 INFO DAGScheduler: Missing parents: List()\n",
      "21/12/19 15:27:43 INFO DAGScheduler: Submitting ResultStage 4 (MapPartitionsRDD[11] at showString at NativeMethodAccessorImpl.java:0), which has no missing parents\n",
      "21/12/19 15:27:43 INFO MemoryStore: Block broadcast_3 stored as values in memory (estimated size 11.6 KiB, free 366.2 MiB)\n",
      "21/12/19 15:27:43 INFO MemoryStore: Block broadcast_3_piece0 stored as bytes in memory (estimated size 5.8 KiB, free 366.2 MiB)\n",
      "21/12/19 15:27:43 INFO BlockManagerInfo: Added broadcast_3_piece0 in memory on e65d5b46bbe5:42525 (size: 5.8 KiB, free: 366.3 MiB)\n",
      "21/12/19 15:27:43 INFO SparkContext: Created broadcast 3 from broadcast at DAGScheduler.scala:1427\n",
      "21/12/19 15:27:43 INFO DAGScheduler: Submitting 1 missing tasks from ResultStage 4 (MapPartitionsRDD[11] at showString at NativeMethodAccessorImpl.java:0) (first 15 tasks are for partitions Vector(0))\n",
      "21/12/19 15:27:43 INFO TaskSchedulerImpl: Adding task set 4.0 with 1 tasks resource profile 0\n",
      "21/12/19 15:27:43 INFO TaskSetManager: Starting task 0.0 in stage 4.0 (TID 4) (172.20.0.4, executor 0, partition 0, NODE_LOCAL, 4457 bytes) taskResourceAssignments Map()\n",
      "21/12/19 15:27:43 INFO BlockManagerInfo: Added broadcast_3_piece0 in memory on 172.20.0.4:34199 (size: 5.8 KiB, free: 366.3 MiB)\n",
      "21/12/19 15:27:43 INFO MapOutputTrackerMasterEndpoint: Asked to send map output locations for shuffle 0 to 172.20.0.4:44734\n",
      "21/12/19 15:27:43 INFO TaskSetManager: Finished task 0.0 in stage 4.0 (TID 4) in 276 ms on 172.20.0.4 (executor 0) (1/1)\n",
      "21/12/19 15:27:43 INFO TaskSchedulerImpl: Removed TaskSet 4.0, whose tasks have all completed, from pool \n",
      "21/12/19 15:27:43 INFO DAGScheduler: ResultStage 4 (showString at NativeMethodAccessorImpl.java:0) finished in 0.295 s\n",
      "21/12/19 15:27:43 INFO DAGScheduler: Job 3 is finished. Cancelling potential speculative or zombie tasks for this job\n",
      "21/12/19 15:27:43 INFO TaskSchedulerImpl: Killing all running tasks in stage 4: Stage finished\n",
      "21/12/19 15:27:43 INFO DAGScheduler: Job 3 finished: showString at NativeMethodAccessorImpl.java:0, took 0.319512 s\n",
      "21/12/19 15:27:44 INFO CodeGenerator: Code generated in 25.085556 ms\n",
      "+-----------+\n",
      "|max(salary)|\n",
      "+-----------+\n",
      "|       4600|\n",
      "+-----------+\n",
      "\n",
      "21/12/19 15:27:44 INFO SparkContext: Invoking stop() from shutdown hook\n",
      "21/12/19 15:27:44 INFO SparkUI: Stopped Spark web UI at http://e65d5b46bbe5:4041\n",
      "21/12/19 15:27:44 INFO StandaloneSchedulerBackend: Shutting down all executors\n",
      "21/12/19 15:27:44 INFO CoarseGrainedSchedulerBackend$DriverEndpoint: Asking each executor to shut down\n",
      "21/12/19 15:27:44 INFO MapOutputTrackerMasterEndpoint: MapOutputTrackerMasterEndpoint stopped!\n",
      "21/12/19 15:27:44 INFO MemoryStore: MemoryStore cleared\n",
      "21/12/19 15:27:44 INFO BlockManager: BlockManager stopped\n",
      "21/12/19 15:27:44 INFO BlockManagerMaster: BlockManagerMaster stopped\n",
      "21/12/19 15:27:44 INFO OutputCommitCoordinator$OutputCommitCoordinatorEndpoint: OutputCommitCoordinator stopped!\n",
      "21/12/19 15:27:44 INFO SparkContext: Successfully stopped SparkContext\n",
      "21/12/19 15:27:44 INFO ShutdownHookManager: Shutdown hook called\n",
      "21/12/19 15:27:44 INFO ShutdownHookManager: Deleting directory /tmp/spark-4ec20c7d-538e-4446-ba06-a1e2d17bf69f\n",
      "21/12/19 15:27:44 INFO ShutdownHookManager: Deleting directory /tmp/spark-87252b46-a20b-407a-83cb-eb8624547321\n",
      "21/12/19 15:27:44 INFO ShutdownHookManager: Deleting directory /tmp/spark-87252b46-a20b-407a-83cb-eb8624547321/pyspark-f5251f5d-c646-4af3-ad56-30c24f10a3a1\n"
     ]
    }
   ],
   "source": [
    "!/opt/spark/bin/spark-submit \\\n",
    "  --master spark://master:7077 \\\n",
    "  /home/data/1.sql.py"
   ]
  },
  {
   "cell_type": "code",
   "execution_count": null,
   "id": "5883227f",
   "metadata": {},
   "outputs": [],
   "source": []
  }
 ],
 "metadata": {
  "kernelspec": {
   "display_name": "Python 3 (ipykernel)",
   "language": "python",
   "name": "python3"
  },
  "language_info": {
   "codemirror_mode": {
    "name": "ipython",
    "version": 3
   },
   "file_extension": ".py",
   "mimetype": "text/x-python",
   "name": "python",
   "nbconvert_exporter": "python",
   "pygments_lexer": "ipython3",
   "version": "3.8.10"
  }
 },
 "nbformat": 4,
 "nbformat_minor": 5
}
