{
 "cells": [
  {
   "cell_type": "code",
   "execution_count": 1,
   "id": "af1229f1",
   "metadata": {},
   "outputs": [],
   "source": [
    "from pyspark.sql import Row\n",
    "from pyspark.sql import SparkSession\n",
    "from pyspark.sql.types import *\n",
    "from pyspark.sql.functions import *\n",
    "from delta import *\n",
    "from delta.tables import *\n",
    "from datetime import datetime\n",
    "import pandas as pd\n",
    "import json\n",
    "\n",
    "warehouse_location = 'hdfs://hdfs:9000/hive/warehouse'"
   ]
  },
  {
   "cell_type": "code",
   "execution_count": 2,
   "id": "3502e36b",
   "metadata": {},
   "outputs": [],
   "source": [
    "# !wget https://repo1.maven.org/maven2/org/apache/spark/spark-sql-kafka-0-10_2.12/3.1.2/spark-sql-kafka-0-10_2.12-3.1.2.jar\n",
    "# !wget https://repo1.maven.org/maven2/org/apache/spark/spark-token-provider-kafka-0-10_2.12/3.1.2/spark-token-provider-kafka-0-10_2.12-3.1.2.jar\n",
    "# !wget https://repo1.maven.org/maven2/org/apache/kafka/kafka-clients/2.6.0/kafka-clients-2.6.0.jar\n",
    "# !wget https://repo1.maven.org/maven2/org/apache/commons/commons-pool2/2.6.2/commons-pool2-2.6.2.jar\n",
    "# !cp *.jar $SPARK_HOME/jars"
   ]
  },
  {
   "cell_type": "code",
   "execution_count": 3,
   "id": "d55cab56",
   "metadata": {
    "scrolled": false
   },
   "outputs": [
    {
     "name": "stdout",
     "output_type": "stream",
     "text": [
      ":: loading settings :: url = jar:file:/opt/spark/jars/ivy-2.4.0.jar!/org/apache/ivy/core/settings/ivysettings.xml\n"
     ]
    },
    {
     "name": "stderr",
     "output_type": "stream",
     "text": [
      "Ivy Default Cache set to: /root/.ivy2/cache\n",
      "The jars for the packages stored in: /root/.ivy2/jars\n",
      "io.delta#delta-core_2.12 added as a dependency\n",
      ":: resolving dependencies :: org.apache.spark#spark-submit-parent-bc52b71e-c598-4a10-8316-f0f3a427f6e8;1.0\n",
      "\tconfs: [default]\n",
      "\tfound io.delta#delta-core_2.12;1.0.0 in central\n",
      "\tfound org.antlr#antlr4;4.7 in central\n",
      "\tfound org.antlr#antlr4-runtime;4.7 in central\n",
      "\tfound org.antlr#antlr-runtime;3.5.2 in central\n",
      "\tfound org.antlr#ST4;4.0.8 in central\n",
      "\tfound org.abego.treelayout#org.abego.treelayout.core;1.0.3 in central\n",
      "\tfound org.glassfish#javax.json;1.0.4 in central\n",
      "\tfound com.ibm.icu#icu4j;58.2 in central\n",
      "downloading https://repo1.maven.org/maven2/io/delta/delta-core_2.12/1.0.0/delta-core_2.12-1.0.0.jar ...\n",
      "\t[SUCCESSFUL ] io.delta#delta-core_2.12;1.0.0!delta-core_2.12.jar (1057ms)\n",
      "downloading https://repo1.maven.org/maven2/org/antlr/antlr4/4.7/antlr4-4.7.jar ...\n",
      "\t[SUCCESSFUL ] org.antlr#antlr4;4.7!antlr4.jar (229ms)\n",
      "downloading https://repo1.maven.org/maven2/org/antlr/antlr4-runtime/4.7/antlr4-runtime-4.7.jar ...\n",
      "\t[SUCCESSFUL ] org.antlr#antlr4-runtime;4.7!antlr4-runtime.jar (177ms)\n",
      "downloading https://repo1.maven.org/maven2/org/antlr/antlr-runtime/3.5.2/antlr-runtime-3.5.2.jar ...\n",
      "\t[SUCCESSFUL ] org.antlr#antlr-runtime;3.5.2!antlr-runtime.jar (181ms)\n",
      "downloading https://repo1.maven.org/maven2/org/antlr/ST4/4.0.8/ST4-4.0.8.jar ...\n",
      "\t[SUCCESSFUL ] org.antlr#ST4;4.0.8!ST4.jar (173ms)\n",
      "downloading https://repo1.maven.org/maven2/org/abego/treelayout/org.abego.treelayout.core/1.0.3/org.abego.treelayout.core-1.0.3.jar ...\n",
      "\t[SUCCESSFUL ] org.abego.treelayout#org.abego.treelayout.core;1.0.3!org.abego.treelayout.core.jar(bundle) (167ms)\n",
      "downloading https://repo1.maven.org/maven2/org/glassfish/javax.json/1.0.4/javax.json-1.0.4.jar ...\n",
      "\t[SUCCESSFUL ] org.glassfish#javax.json;1.0.4!javax.json.jar(bundle) (170ms)\n",
      "downloading https://repo1.maven.org/maven2/com/ibm/icu/icu4j/58.2/icu4j-58.2.jar ...\n",
      "\t[SUCCESSFUL ] com.ibm.icu#icu4j;58.2!icu4j.jar (823ms)\n",
      ":: resolution report :: resolve 16216ms :: artifacts dl 2988ms\n",
      "\t:: modules in use:\n",
      "\tcom.ibm.icu#icu4j;58.2 from central in [default]\n",
      "\tio.delta#delta-core_2.12;1.0.0 from central in [default]\n",
      "\torg.abego.treelayout#org.abego.treelayout.core;1.0.3 from central in [default]\n",
      "\torg.antlr#ST4;4.0.8 from central in [default]\n",
      "\torg.antlr#antlr-runtime;3.5.2 from central in [default]\n",
      "\torg.antlr#antlr4;4.7 from central in [default]\n",
      "\torg.antlr#antlr4-runtime;4.7 from central in [default]\n",
      "\torg.glassfish#javax.json;1.0.4 from central in [default]\n",
      "\t---------------------------------------------------------------------\n",
      "\t|                  |            modules            ||   artifacts   |\n",
      "\t|       conf       | number| search|dwnlded|evicted|| number|dwnlded|\n",
      "\t---------------------------------------------------------------------\n",
      "\t|      default     |   8   |   8   |   8   |   0   ||   8   |   8   |\n",
      "\t---------------------------------------------------------------------\n",
      ":: retrieving :: org.apache.spark#spark-submit-parent-bc52b71e-c598-4a10-8316-f0f3a427f6e8\n",
      "\tconfs: [default]\n",
      "\t8 artifacts copied, 0 already retrieved (15452kB/33ms)\n",
      "22/01/27 08:20:17 WARN NativeCodeLoader: Unable to load native-hadoop library for your platform... using builtin-java classes where applicable\n",
      "Using Spark's default log4j profile: org/apache/spark/log4j-defaults.properties\n",
      "Setting default log level to \"WARN\".\n",
      "To adjust logging level use sc.setLogLevel(newLevel). For SparkR, use setLogLevel(newLevel).\n"
     ]
    }
   ],
   "source": [
    "builder = SparkSession \\\n",
    "    .builder \\\n",
    "    .appName(\"hive\") \\\n",
    "    .master('spark://master:7077') \\\n",
    "    .config(\"spark.sql.extensions\", \"io.delta.sql.DeltaSparkSessionExtension\") \\\n",
    "    .config(\"spark.sql.catalog.spark_catalog\", \"org.apache.spark.sql.delta.catalog.DeltaCatalog\") \\\n",
    "    .config(\"spark.sql.warehouse.dir\", warehouse_location)\n",
    "\n",
    "spark = configure_spark_with_delta_pip(builder).getOrCreate()"
   ]
  },
  {
   "cell_type": "code",
   "execution_count": 4,
   "id": "9636aed9",
   "metadata": {},
   "outputs": [
    {
     "name": "stdout",
     "output_type": "stream",
     "text": [
      "Deleted hdfs://hdfs:9000/hive/warehouse/employee_salary\r\n"
     ]
    }
   ],
   "source": [
    "!$HADOOP_HOME/bin/hdfs dfs -rm -r hdfs://hdfs:9000/hive/warehouse/employee_salary"
   ]
  },
  {
   "cell_type": "code",
   "execution_count": 5,
   "id": "f548963b",
   "metadata": {},
   "outputs": [
    {
     "name": "stderr",
     "output_type": "stream",
     "text": [
      "                                                                                me version 4.8ANTLR Tool version 4.7 used for code generation does not match the current runtime version 4.8\r"
     ]
    },
    {
     "data": {
      "text/plain": [
       "DataFrame[]"
      ]
     },
     "execution_count": 5,
     "metadata": {},
     "output_type": "execute_result"
    }
   ],
   "source": [
    "sql = \"\"\"\n",
    "CREATE TABLE IF NOT EXISTS default.employee_salary (\n",
    "  id INT,\n",
    "  name STRING,\n",
    "  salary FLOAT,\n",
    "  last_update TIMESTAMP,\n",
    "  time_created TIMESTAMP\n",
    ") USING DELTA\n",
    "\"\"\"\n",
    "spark.sql(sql)"
   ]
  },
  {
   "cell_type": "code",
   "execution_count": 6,
   "id": "03a312e5",
   "metadata": {},
   "outputs": [
    {
     "data": {
      "text/plain": [
       "<delta.tables.DeltaTable at 0x7f75b1e4dca0>"
      ]
     },
     "execution_count": 6,
     "metadata": {},
     "output_type": "execute_result"
    }
   ],
   "source": [
    "deltadf = DeltaTable.forName(spark, 'default.employee_salary')\n",
    "deltadf"
   ]
  },
  {
   "cell_type": "code",
   "execution_count": 7,
   "id": "07f1ee5a",
   "metadata": {},
   "outputs": [],
   "source": [
    "spark_jdbc = spark.read \\\n",
    ".format(\"jdbc\") \\\n",
    ".option(\"url\", \"jdbc:postgresql://postgresql:5432/postgres\") \\\n",
    ".option(\"user\", \"postgres\") \\\n",
    ".option(\"password\", \"postgres\") \\\n",
    ".option(\"driver\", \"org.postgresql.Driver\")"
   ]
  },
  {
   "cell_type": "code",
   "execution_count": 8,
   "id": "731ef87c",
   "metadata": {},
   "outputs": [],
   "source": [
    "df_employee = spark_jdbc.option(\"dbtable\", \"public.employee\").load()\n",
    "df_salary = spark_jdbc.option(\"dbtable\", \"public.salary\").load()"
   ]
  },
  {
   "cell_type": "code",
   "execution_count": 9,
   "id": "867ab4a7",
   "metadata": {},
   "outputs": [],
   "source": [
    "df = spark \\\n",
    ".readStream \\\n",
    ".format('kafka') \\\n",
    ".option(\"kafka.bootstrap.servers\", \"broker:9092\") \\\n",
    ".option(\"subscribe\", 'employee.public.salary') \\\n",
    ".option(\"startingOffsets\", \"earliest\") \\\n",
    ".load()\n",
    "# .option('kafka.group.id', 'test7') \\\n",
    "# .load()\n",
    "df = df.selectExpr(\"CAST(key AS STRING)\", \"CAST(value AS STRING)\", \"topic\")"
   ]
  },
  {
   "cell_type": "code",
   "execution_count": 10,
   "id": "ec1f68bb",
   "metadata": {},
   "outputs": [],
   "source": [
    "def millisecond_to_timestamp(row):\n",
    "    try:\n",
    "        ms_dt = datetime.fromtimestamp(ms / 1_000_000.0)\n",
    "    except ValueError:\n",
    "        ms_dt = None\n",
    "\n",
    "    return ms_dt"
   ]
  },
  {
   "cell_type": "code",
   "execution_count": 11,
   "id": "0d88b1df",
   "metadata": {},
   "outputs": [],
   "source": [
    "def merge(microdf, batchId):\n",
    "    print(f'batch id: {batchId}, rows count: {microdf.count()}')\n",
    "    after = [json.loads(row['value']) for row in microdf.select('value').collect()]\n",
    "    after = [row['payload']['after'] for row in after]\n",
    "    df_pd = pd.DataFrame(after)\n",
    "    for s in df_salary.schema:\n",
    "        if s.dataType == TimestampType():\n",
    "            df_pd[s] = df_pd[s].apply(millisecond_to_timestamp, axis = 1)\n",
    "\n",
    "    after_df = spark.createDataFrame(df_pd, schema = df_salary.schema)\n",
    "    inner_join = after_df.join(df_employee, ['id'])\n",
    "    deltadf.alias('t').merge(inner_join.alias('s'),'s.id = t.id') \\\n",
    "    .whenMatchedUpdateAll() \\\n",
    "    .whenNotMatchedInsertAll() \\\n",
    "    .execute()"
   ]
  },
  {
   "cell_type": "code",
   "execution_count": 12,
   "id": "a60d13d3",
   "metadata": {},
   "outputs": [
    {
     "name": "stderr",
     "output_type": "stream",
     "text": [
      "22/01/27 08:23:22 WARN StreamingQueryManager: Temporary checkpoint location created which is deleted normally when the query didn't fail: /tmp/temporary-1dec56a6-6017-451a-9d74-7cedb1784209. If it's required to delete it under any circumstances, please set spark.sql.streaming.forceDeleteTempCheckpointLocation to true. Important to know deleting temp checkpoint folder is best effort.\n",
      "                                                                                \r"
     ]
    },
    {
     "name": "stdout",
     "output_type": "stream",
     "text": [
      "batch id: 0, rows count: 2\n"
     ]
    },
    {
     "name": "stderr",
     "output_type": "stream",
     "text": [
      "                                                                                \r"
     ]
    }
   ],
   "source": [
    "streamQuery = df.writeStream.format('delta').outputMode('append') \\\n",
    ".foreachBatch(merge) \\\n",
    ".start()"
   ]
  },
  {
   "cell_type": "code",
   "execution_count": 13,
   "id": "e177351e",
   "metadata": {},
   "outputs": [
    {
     "name": "stderr",
     "output_type": "stream",
     "text": [
      "                                                                                \r"
     ]
    },
    {
     "name": "stdout",
     "output_type": "stream",
     "text": [
      "+---+------+------+--------------------+--------------------+\n",
      "| id|  name|salary|         last_update|        time_created|\n",
      "+---+------+------+--------------------+--------------------+\n",
      "|  1|husein|1000.0|2022-01-25 15:48:...|2022-01-25 15:48:...|\n",
      "|  2| kasim|1000.0|2022-01-25 15:48:...|2022-01-25 15:48:...|\n",
      "+---+------+------+--------------------+--------------------+\n",
      "\n"
     ]
    }
   ],
   "source": [
    "spark.sql('select * from default.employee_salary').show()"
   ]
  }
 ],
 "metadata": {
  "kernelspec": {
   "display_name": "Python 3 (ipykernel)",
   "language": "python",
   "name": "python3"
  },
  "language_info": {
   "codemirror_mode": {
    "name": "ipython",
    "version": 3
   },
   "file_extension": ".py",
   "mimetype": "text/x-python",
   "name": "python",
   "nbconvert_exporter": "python",
   "pygments_lexer": "ipython3",
   "version": "3.8.10"
  }
 },
 "nbformat": 4,
 "nbformat_minor": 5
}
