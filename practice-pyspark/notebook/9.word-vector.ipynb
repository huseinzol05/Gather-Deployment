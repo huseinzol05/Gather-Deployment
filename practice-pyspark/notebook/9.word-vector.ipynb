{
 "cells": [
  {
   "cell_type": "code",
   "execution_count": 10,
   "id": "8dc887a7",
   "metadata": {},
   "outputs": [],
   "source": [
    "# !wget https://raw.githubusercontent.com/huseinzol05/Pyspark-ML/master/notebooks/all_book_titles.txt\n",
    "# !pip3 install nltk"
   ]
  },
  {
   "cell_type": "code",
   "execution_count": 11,
   "id": "7d5a53df",
   "metadata": {},
   "outputs": [
    {
     "name": "stderr",
     "output_type": "stream",
     "text": [
      "[nltk_data] Downloading package stopwords to /root/nltk_data...\n",
      "[nltk_data]   Unzipping corpora/stopwords.zip.\n"
     ]
    },
    {
     "data": {
      "text/plain": [
       "True"
      ]
     },
     "execution_count": 11,
     "metadata": {},
     "output_type": "execute_result"
    }
   ],
   "source": [
    "import nltk\n",
    "nltk.download('stopwords')"
   ]
  },
  {
   "cell_type": "code",
   "execution_count": 12,
   "id": "019829f9",
   "metadata": {},
   "outputs": [],
   "source": [
    "from pyspark.sql import SparkSession, Row\n",
    "from pyspark.sql.types import StringType, ArrayType\n",
    "from pyspark.ml.feature import Word2Vec\n",
    "from operator import add\n",
    "from nltk.corpus import stopwords"
   ]
  },
  {
   "cell_type": "code",
   "execution_count": 14,
   "id": "57b4a16d",
   "metadata": {},
   "outputs": [],
   "source": [
    "stopwords = stopwords.words('english')"
   ]
  },
  {
   "cell_type": "code",
   "execution_count": 4,
   "id": "620d5a99",
   "metadata": {},
   "outputs": [
    {
     "name": "stderr",
     "output_type": "stream",
     "text": [
      "22/02/10 14:59:03 WARN NativeCodeLoader: Unable to load native-hadoop library for your platform... using builtin-java classes where applicable\n",
      "Using Spark's default log4j profile: org/apache/spark/log4j-defaults.properties\n",
      "Setting default log level to \"WARN\".\n",
      "To adjust logging level use sc.setLogLevel(newLevel). For SparkR, use setLogLevel(newLevel).\n"
     ]
    }
   ],
   "source": [
    "sess = SparkSession.builder.appName('nlp').getOrCreate()"
   ]
  },
  {
   "cell_type": "code",
   "execution_count": 8,
   "id": "ceba67cd",
   "metadata": {},
   "outputs": [],
   "source": [
    "lines = sess.sparkContext.textFile('all_book_titles.txt')"
   ]
  },
  {
   "cell_type": "code",
   "execution_count": 15,
   "id": "d5a40b8b",
   "metadata": {},
   "outputs": [
    {
     "name": "stderr",
     "output_type": "stream",
     "text": [
      "                                                                                \r"
     ]
    }
   ],
   "source": [
    "lines = lines \\\n",
    "    .map(lambda line: line.strip().lower()) \\\n",
    "    .map(lambda line: line.split()) \\\n",
    "    .map(lambda words: [w for w in words if w.isalpha()]) \\\n",
    "    .map(lambda words: [w for w in words if len(w) > 3]) \\\n",
    "    .map(lambda words: [w for w in words if w not in stopwords]).reduce(add)"
   ]
  },
  {
   "cell_type": "code",
   "execution_count": 17,
   "id": "a4fe2a05",
   "metadata": {},
   "outputs": [],
   "source": [
    "df = sess.createDataFrame([(lines,), (lines,)], ['sentence'])"
   ]
  },
  {
   "cell_type": "code",
   "execution_count": 18,
   "id": "1c10975d",
   "metadata": {},
   "outputs": [],
   "source": [
    "word2Vec = Word2Vec(vectorSize=64, inputCol='sentence', outputCol='model')"
   ]
  },
  {
   "cell_type": "code",
   "execution_count": 19,
   "id": "2c44ba04",
   "metadata": {},
   "outputs": [
    {
     "name": "stderr",
     "output_type": "stream",
     "text": [
      "22/02/10 15:01:46 WARN BLAS: Failed to load implementation from: com.github.fommil.netlib.NativeSystemBLAS\n",
      "22/02/10 15:01:46 WARN BLAS: Failed to load implementation from: com.github.fommil.netlib.NativeRefBLAS\n",
      "                                                                                \r"
     ]
    }
   ],
   "source": [
    "model = word2Vec.fit(df)"
   ]
  },
  {
   "cell_type": "code",
   "execution_count": 20,
   "id": "b76e9f72",
   "metadata": {},
   "outputs": [
    {
     "name": "stdout",
     "output_type": "stream",
     "text": [
      "+------------+--------------------+\n",
      "|        word|              vector|\n",
      "+------------+--------------------+\n",
      "|    embedded|[-0.0281618312001...|\n",
      "|    feminism|[-0.0459480397403...|\n",
      "|       unity|[0.08734160661697...|\n",
      "|  conceptual|[0.04000809043645...|\n",
      "|   reference|[0.01763781718909...|\n",
      "|    workbook|[0.08311362564563...|\n",
      "|     writing|[0.08494076132774...|\n",
      "|    elements|[-0.0120139205828...|\n",
      "|    discrete|[-0.0159764047712...|\n",
      "|    semester|[0.16084235906600...|\n",
      "|     measure|[-0.0345099978148...|\n",
      "|      health|[0.04372465983033...|\n",
      "| application|[-0.0353720448911...|\n",
      "|     statics|[0.04680669680237...|\n",
      "|  perceptive|[0.00351415248587...|\n",
      "|organization|[-0.1775018423795...|\n",
      "|    database|[0.04597432538866...|\n",
      "|       moral|[-0.0295252725481...|\n",
      "|     nursing|[0.09200063347816...|\n",
      "|    politics|[-0.0211179312318...|\n",
      "+------------+--------------------+\n",
      "only showing top 20 rows\n",
      "\n"
     ]
    }
   ],
   "source": [
    "model.getVectors().show()"
   ]
  },
  {
   "cell_type": "code",
   "execution_count": 21,
   "id": "9bb05738",
   "metadata": {},
   "outputs": [],
   "source": [
    "from pyspark.sql.functions import format_number as fmt"
   ]
  },
  {
   "cell_type": "code",
   "execution_count": 23,
   "id": "abf28df9",
   "metadata": {},
   "outputs": [
    {
     "name": "stdout",
     "output_type": "stream",
     "text": [
      "+---------------+----------+\n",
      "|           word|similarity|\n",
      "+---------------+----------+\n",
      "|        problem|   0.96499|\n",
      "|    illustrated|   0.96113|\n",
      "|          islam|   0.95739|\n",
      "| bioinformatics|   0.94640|\n",
      "|       circuits|   0.94578|\n",
      "|pathophysiology|   0.93226|\n",
      "|      actuarial|   0.93020|\n",
      "|         primer|   0.92894|\n",
      "|        judaism|   0.92451|\n",
      "|     multimedia|   0.91843|\n",
      "|      reduction|   0.91617|\n",
      "| constitutional|   0.91257|\n",
      "|       practice|   0.91221|\n",
      "|       hardware|   0.90916|\n",
      "|      computing|   0.90649|\n",
      "|        century|   0.90640|\n",
      "|        matters|   0.90288|\n",
      "|        general|   0.89806|\n",
      "|           drag|   0.89795|\n",
      "|    linguistics|   0.89717|\n",
      "+---------------+----------+\n",
      "\n"
     ]
    }
   ],
   "source": [
    "model.findSynonyms(\"politics\", 20).select(\"word\", fmt(\"similarity\", 5).alias(\"similarity\")).show()"
   ]
  }
 ],
 "metadata": {
  "kernelspec": {
   "display_name": "Python 3 (ipykernel)",
   "language": "python",
   "name": "python3"
  },
  "language_info": {
   "codemirror_mode": {
    "name": "ipython",
    "version": 3
   },
   "file_extension": ".py",
   "mimetype": "text/x-python",
   "name": "python",
   "nbconvert_exporter": "python",
   "pygments_lexer": "ipython3",
   "version": "3.8.10"
  }
 },
 "nbformat": 4,
 "nbformat_minor": 5
}
