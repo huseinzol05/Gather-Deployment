{
 "cells": [
  {
   "cell_type": "code",
   "execution_count": 7,
   "id": "90604c9d",
   "metadata": {},
   "outputs": [],
   "source": [
    "# !pip3 install tensorflow-datasets"
   ]
  },
  {
   "cell_type": "code",
   "execution_count": 8,
   "id": "93ea864a",
   "metadata": {},
   "outputs": [],
   "source": [
    "import tensorflow as tf\n",
    "import tensorflow_datasets as tfds\n",
    "import pyspark"
   ]
  },
  {
   "cell_type": "code",
   "execution_count": 9,
   "id": "3cd69dbe",
   "metadata": {},
   "outputs": [
    {
     "name": "stderr",
     "output_type": "stream",
     "text": [
      "22/02/22 06:41:08 WARN NativeCodeLoader: Unable to load native-hadoop library for your platform... using builtin-java classes where applicable\n",
      "Using Spark's default log4j profile: org/apache/spark/log4j-defaults.properties\n",
      "Setting default log level to \"WARN\".\n",
      "To adjust logging level use sc.setLogLevel(newLevel). For SparkR, use setLogLevel(newLevel).\n"
     ]
    }
   ],
   "source": [
    "spark = pyspark.sql.SparkSession.builder.appName(\"MyApp\") \\\n",
    "            .getOrCreate()"
   ]
  },
  {
   "cell_type": "code",
   "execution_count": 10,
   "id": "0d5edc92",
   "metadata": {
    "scrolled": false
   },
   "outputs": [
    {
     "name": "stdout",
     "output_type": "stream",
     "text": [
      "\u001b[1mDownloading and preparing dataset 11.06 MiB (download: 11.06 MiB, generated: 21.00 MiB, total: 32.06 MiB) to /root/tensorflow_datasets/mnist/3.0.1...\u001b[0m\n"
     ]
    },
    {
     "data": {
      "application/vnd.jupyter.widget-view+json": {
       "model_id": "cd3255f2c73e47aa9fa01e5f19312473",
       "version_major": 2,
       "version_minor": 0
      },
      "text/plain": [
       "Dl Completed...:   0%|          | 0/4 [00:00<?, ? file/s]"
      ]
     },
     "metadata": {},
     "output_type": "display_data"
    },
    {
     "name": "stdout",
     "output_type": "stream",
     "text": [
      "\u001b[1mDataset mnist downloaded and prepared to /root/tensorflow_datasets/mnist/3.0.1. Subsequent calls will reuse this data.\u001b[0m\n",
      "{\n",
      "  \"citation\": \"@article{lecun2010mnist,\\n  title={MNIST handwritten digit database},\\n  author={LeCun, Yann and Cortes, Corinna and Burges, CJ},\\n  journal={ATT Labs [Online]. Available: http://yann.lecun.com/exdb/mnist},\\n  volume={2},\\n  year={2010}\\n}\",\n",
      "  \"description\": \"The MNIST database of handwritten digits.\",\n",
      "  \"downloadSize\": \"11594722\",\n",
      "  \"fileFormat\": \"tfrecord\",\n",
      "  \"location\": {\n",
      "    \"urls\": [\n",
      "      \"http://yann.lecun.com/exdb/mnist/\"\n",
      "    ]\n",
      "  },\n",
      "  \"moduleName\": \"tensorflow_datasets.image_classification.mnist\",\n",
      "  \"name\": \"mnist\",\n",
      "  \"schema\": {\n",
      "    \"feature\": [\n",
      "      {\n",
      "        \"name\": \"image\",\n",
      "        \"shape\": {\n",
      "          \"dim\": [\n",
      "            {\n",
      "              \"size\": \"28\"\n",
      "            },\n",
      "            {\n",
      "              \"size\": \"28\"\n",
      "            },\n",
      "            {\n",
      "              \"size\": \"1\"\n",
      "            }\n",
      "          ]\n",
      "        },\n",
      "        \"type\": \"INT\"\n",
      "      },\n",
      "      {\n",
      "        \"name\": \"label\",\n",
      "        \"type\": \"INT\"\n",
      "      }\n",
      "    ]\n",
      "  },\n",
      "  \"splits\": [\n",
      "    {\n",
      "      \"name\": \"test\",\n",
      "      \"numBytes\": \"3150056\",\n",
      "      \"shardLengths\": [\n",
      "        \"10000\"\n",
      "      ],\n",
      "      \"statistics\": {\n",
      "        \"features\": [\n",
      "          {\n",
      "            \"name\": \"image\",\n",
      "            \"numStats\": {\n",
      "              \"commonStats\": {\n",
      "                \"numNonMissing\": \"10000\"\n",
      "              },\n",
      "              \"max\": 255.0\n",
      "            }\n",
      "          },\n",
      "          {\n",
      "            \"name\": \"label\",\n",
      "            \"numStats\": {\n",
      "              \"commonStats\": {\n",
      "                \"numNonMissing\": \"10000\"\n",
      "              },\n",
      "              \"max\": 9.0\n",
      "            }\n",
      "          }\n",
      "        ],\n",
      "        \"numExamples\": \"10000\"\n",
      "      }\n",
      "    },\n",
      "    {\n",
      "      \"name\": \"train\",\n",
      "      \"numBytes\": \"18872042\",\n",
      "      \"shardLengths\": [\n",
      "        \"60000\"\n",
      "      ],\n",
      "      \"statistics\": {\n",
      "        \"features\": [\n",
      "          {\n",
      "            \"name\": \"image\",\n",
      "            \"numStats\": {\n",
      "              \"commonStats\": {\n",
      "                \"numNonMissing\": \"60000\"\n",
      "              },\n",
      "              \"max\": 255.0\n",
      "            }\n",
      "          },\n",
      "          {\n",
      "            \"name\": \"label\",\n",
      "            \"numStats\": {\n",
      "              \"commonStats\": {\n",
      "                \"numNonMissing\": \"60000\"\n",
      "              },\n",
      "              \"max\": 9.0\n",
      "            }\n",
      "          }\n",
      "        ],\n",
      "        \"numExamples\": \"60000\"\n",
      "      }\n",
      "    }\n",
      "  ],\n",
      "  \"supervisedKeys\": {\n",
      "    \"tuple\": {\n",
      "      \"items\": [\n",
      "        {\n",
      "          \"featureKey\": \"image\"\n",
      "        },\n",
      "        {\n",
      "          \"featureKey\": \"label\"\n",
      "        }\n",
      "      ]\n",
      "    }\n",
      "  },\n",
      "  \"version\": \"3.0.1\"\n",
      "}\n"
     ]
    },
    {
     "name": "stderr",
     "output_type": "stream",
     "text": [
      "2022-02-22 06:41:19.570620: W tensorflow/stream_executor/platform/default/dso_loader.cc:64] Could not load dynamic library 'libcuda.so.1'; dlerror: libcuda.so.1: cannot open shared object file: No such file or directory\n",
      "2022-02-22 06:41:19.570733: W tensorflow/stream_executor/cuda/cuda_driver.cc:326] failed call to cuInit: UNKNOWN ERROR (303)\n",
      "2022-02-22 06:41:19.570786: I tensorflow/stream_executor/cuda/cuda_diagnostics.cc:156] kernel driver does not appear to be running on this host (0905a014a175): /proc/driver/nvidia/version does not exist\n",
      "2022-02-22 06:41:19.573120: I tensorflow/core/platform/cpu_feature_guard.cc:142] This TensorFlow binary is optimized with oneAPI Deep Neural Network Library (oneDNN) to use the following CPU instructions in performance-critical operations:  AVX2 FMA\n",
      "To enable them in other operations, rebuild TensorFlow with the appropriate compiler flags.\n"
     ]
    }
   ],
   "source": [
    "mnist, info = tfds.load('mnist', with_info=True)\n",
    "print(info.as_json)"
   ]
  },
  {
   "cell_type": "code",
   "execution_count": 11,
   "id": "1d38a470",
   "metadata": {},
   "outputs": [],
   "source": [
    "output = 'hdfs://hdfs:9000/user/mnist'\n",
    "num_partitions = 10"
   ]
  },
  {
   "cell_type": "code",
   "execution_count": 12,
   "id": "c8cb71ee",
   "metadata": {},
   "outputs": [
    {
     "name": "stderr",
     "output_type": "stream",
     "text": [
      "2022-02-22 06:41:19.719347: I tensorflow/compiler/mlir/mlir_graph_optimization_pass.cc:176] None of the MLIR Optimization Passes are enabled (registered 2)\n",
      "2022-02-22 06:41:19.720597: I tensorflow/core/platform/profile_utils/cpu_utils.cc:114] CPU Frequency: 2199995000 Hz\n"
     ]
    }
   ],
   "source": [
    "mnist_train = tfds.as_numpy(mnist['train'])\n",
    "mnist_test = tfds.as_numpy(mnist['test'])\n",
    "\n",
    "train_rdd = spark.sparkContext.parallelize(mnist_train, num_partitions).cache()\n",
    "test_rdd = spark.sparkContext.parallelize(mnist_test, num_partitions).cache()"
   ]
  },
  {
   "cell_type": "code",
   "execution_count": 16,
   "id": "bd2ff6e8",
   "metadata": {},
   "outputs": [],
   "source": [
    "# !$HADOOP_HOME/bin/hdfs dfs -rm -r hdfs://hdfs:9000/user/mnist/csv"
   ]
  },
  {
   "cell_type": "code",
   "execution_count": 17,
   "id": "1d92f80c",
   "metadata": {},
   "outputs": [
    {
     "name": "stderr",
     "output_type": "stream",
     "text": [
      "22/02/22 06:42:40 WARN TaskSetManager: Stage 0 contains a task of very large size (4205 KiB). The maximum recommended task size is 1000 KiB.\n",
      "                                                                                \r"
     ]
    }
   ],
   "source": [
    "def to_csv(example):\n",
    "    return str(example['label']) + ',' + ','.join([str(i) for i in example['image'].reshape(784)])\n",
    "\n",
    "train_rdd.map(to_csv).saveAsTextFile(output + \"/csv/train\")\n",
    "test_rdd.map(to_csv).saveAsTextFile(output + \"/csv/test\")"
   ]
  },
  {
   "cell_type": "code",
   "execution_count": 18,
   "id": "e5ce0050",
   "metadata": {},
   "outputs": [
    {
     "name": "stderr",
     "output_type": "stream",
     "text": [
      "22/02/22 06:44:16 WARN TaskSetManager: Stage 2 contains a task of very large size (4205 KiB). The maximum recommended task size is 1000 KiB.\n",
      "2022-02-22 06:44:16.827356: W tensorflow/stream_executor/platform/default/dso_loader.cc:64] Could not load dynamic library 'libcudart.so.11.0'; dlerror: libcudart.so.11.0: cannot open shared object file: No such file or directory\n",
      "2022-02-22 06:44:16.827848: I tensorflow/stream_executor/cuda/cudart_stub.cc:29] Ignore above cudart dlerror if you do not have a GPU set up on your machine.\n",
      "22/02/22 06:44:18 WARN TaskSetManager: Stage 3 contains a task of very large size (4205 KiB). The maximum recommended task size is 1000 KiB.\n",
      "2022-02-22 06:44:19.134025: W tensorflow/stream_executor/platform/default/dso_loader.cc:64] Could not load dynamic library 'libcudart.so.11.0'; dlerror: libcudart.so.11.0: cannot open shared object file: No such file or directory\n",
      "2022-02-22 06:44:19.134104: I tensorflow/stream_executor/cuda/cudart_stub.cc:29] Ignore above cudart dlerror if you do not have a GPU set up on your machine.\n",
      "2022-02-22 06:44:19.227637: W tensorflow/stream_executor/platform/default/dso_loader.cc:64] Could not load dynamic library 'libcudart.so.11.0'; dlerror: libcudart.so.11.0: cannot open shared object file: No such file or directory\n",
      "2022-02-22 06:44:19.227705: I tensorflow/stream_executor/cuda/cudart_stub.cc:29] Ignore above cudart dlerror if you do not have a GPU set up on your machine.\n",
      "2022-02-22 06:44:45.494167: W tensorflow/stream_executor/platform/default/dso_loader.cc:64] Could not load dynamic library 'libcudart.so.11.0'; dlerror: libcudart.so.11.0: cannot open shared object file: No such file or directory\n",
      "2022-02-22 06:44:45.494899: I tensorflow/stream_executor/cuda/cudart_stub.cc:29] Ignore above cudart dlerror if you do not have a GPU set up on your machine.\n",
      "                                                                                \r"
     ]
    }
   ],
   "source": [
    "def to_tfr(example):\n",
    "    ex = tf.train.Example(\n",
    "      features=tf.train.Features(\n",
    "        feature={\n",
    "          'label': tf.train.Feature(int64_list=tf.train.Int64List(value=[example['label'].astype(\"int64\")])),\n",
    "          'image': tf.train.Feature(int64_list=tf.train.Int64List(value=example['image'].reshape(784).astype(\"int64\")))\n",
    "        }\n",
    "      )\n",
    "    )\n",
    "    return (bytearray(ex.SerializeToString()), None)\n",
    "\n",
    "train_rdd.map(to_tfr).saveAsNewAPIHadoopFile(output + \"/tfr/train\",\n",
    "                                           \"org.tensorflow.hadoop.io.TFRecordFileOutputFormat\",\n",
    "                                           keyClass=\"org.apache.hadoop.io.BytesWritable\",\n",
    "                                           valueClass=\"org.apache.hadoop.io.NullWritable\")\n",
    "test_rdd.map(to_tfr).saveAsNewAPIHadoopFile(output + \"/tfr/test\",\n",
    "                                           \"org.tensorflow.hadoop.io.TFRecordFileOutputFormat\",\n",
    "                                           keyClass=\"org.apache.hadoop.io.BytesWritable\",\n",
    "                                           valueClass=\"org.apache.hadoop.io.NullWritable\")"
   ]
  },
  {
   "cell_type": "code",
   "execution_count": null,
   "id": "02bab3e9",
   "metadata": {},
   "outputs": [],
   "source": []
  }
 ],
 "metadata": {
  "kernelspec": {
   "display_name": "Python 3 (ipykernel)",
   "language": "python",
   "name": "python3"
  },
  "language_info": {
   "codemirror_mode": {
    "name": "ipython",
    "version": 3
   },
   "file_extension": ".py",
   "mimetype": "text/x-python",
   "name": "python",
   "nbconvert_exporter": "python",
   "pygments_lexer": "ipython3",
   "version": "3.8.10"
  }
 },
 "nbformat": 4,
 "nbformat_minor": 5
}
